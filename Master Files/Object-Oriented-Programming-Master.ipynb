{
 "cells": [
  {
   "cell_type": "markdown",
   "id": "15b83f5f",
   "metadata": {},
   "source": [
    "<h1>Object-Oriented Programming in Python</h1>\n",
    "\n",
    "<h3>Introduction to Object-Oriented Programming</h3>\n",
    "\n",
    "<h4>What is OOP</h4>\n",
    "\n",
    "Object-Oriented Programming (OOP) is a programming paradigm that uses `objects` and `classes` to structure code. It focuses on organizing software design around data, or objects, rather than functions and logic. OOP allows for code *reusability*, *scalability*, and *easier maintenance*.\n",
    "\n",
    "<h4>What is Class?</h4>\n",
    "\n",
    "A class is a blueprint or prototype for creating objects. It defines the structure (attributes) and behaviors (methods) of the objects that will be created from it.\n",
    "\n",
    "<h4>What is Object?</h4>\n",
    "\n",
    "An object is an `instance` of a class. It has `attributes` and `methods` that are defined by the class. Each object can have different values for its attributes.\n",
    "\n",
    "<h4>What is Constructor?</h4>\n",
    "\n",
    "A constructor is a `special method` in a class that is called when an object is created. It is typically used to initialize the object's attributes. In Python, the constructor is defined using the `__init__` method.\n",
    "\n",
    "<h3>Example Code</h3>"
   ]
  },
  {
   "cell_type": "code",
   "execution_count": 1,
   "id": "1200ec27",
   "metadata": {},
   "outputs": [
    {
     "name": "stdout",
     "output_type": "stream",
     "text": [
      "Car brand: Toyota, Model: Allion\n"
     ]
    }
   ],
   "source": [
    "# Example of Car class\n",
    "class Car:\n",
    "    def __init__(self, brand, model):\n",
    "        self.brand = brand\n",
    "        self.model = model\n",
    "\n",
    "    def display_info(self):\n",
    "        print(f\"Car brand: {self.brand}, Model: {self.model}\") \n",
    "\n",
    "# Creating of an object of class Car \n",
    "my_car = Car(\"Toyota\", \"Allion\") \n",
    "my_car.display_info() \n"
   ]
  },
  {
   "cell_type": "markdown",
   "id": "8361b5d7",
   "metadata": {},
   "source": [
    "# Attributes\n",
    "\n",
    "The properties of variables defined inside the class in known as Attributes. The properties of variables defined inside the class in known as Attributes.\n",
    "\n",
    "There are 2 types of Attributes:\n",
    "\n",
    "1. **Class Attributes:** It is a type of variable that belong to a class and it's value is shared among all the instances of that class. A class attribute remains the same for every instance of the class. It is defined in the class but outside any method. They can't be initialized inside `__init__()` constructor. In other words, class attribute is available to the class as well as its object. Class attributes can be accessed by object name followed by `(.)` notation.\n",
    "2. **Instance Attributes:** It is a type of variable that is specific to an individual object of a class. It is defined inside `__init__()` method. The first parameter of this method is self and using this parameter instance attributes are defined.\n",
    "\n",
    "## Built-in Class Attributes\n",
    "\n",
    "Every python classes has some built-in attributes and they can be accessed using the class name followed by the `(.)` notation.\n",
    "\n",
    "1. `__dict__` - contains all attributes and methods of the class/object as a dictionary\n",
    "2. `__doc__` - stores the class's documentation as docstring. Can be accessed by using `help()` command.\n",
    "3. `__name__` - returns the class name as string.\n",
    "4. `__module__` - shows the name of the module where the class is defined.\n",
    "5. `__bases__` - tuple of base classes of the current class.\n",
    "\n",
    "#### Class Attributes\n"
   ]
  },
  {
   "cell_type": "code",
   "execution_count": 2,
   "id": "d6f11125",
   "metadata": {},
   "outputs": [
    {
     "name": "stdout",
     "output_type": "stream",
     "text": [
      "Increment Percentage of Employee: 1.5\n"
     ]
    }
   ],
   "source": [
    "#class attributes\n",
    "class Employee:\n",
    "    increment = 1.5\n",
    "    def __init__(self):\n",
    "        self.position = 'Undefined'\n",
    "        self.salary = 0\n",
    "E1 = Employee() \n",
    "print(\"Increment Percentage of Employee: {}\".format(E1.increment)) "
   ]
  },
  {
   "cell_type": "code",
   "execution_count": 3,
   "id": "66c7aed1",
   "metadata": {},
   "outputs": [
    {
     "name": "stdout",
     "output_type": "stream",
     "text": [
      "Current Salary of Employee: 15000\n",
      "Increment Percentage of Employee: 22500.0\n"
     ]
    }
   ],
   "source": [
    "# Modifying class attributes\n",
    "class Employee:\n",
    "    increment = 1.5\n",
    "    new_salary = 0\n",
    "    def __init__(self, salary):\n",
    "        self.position = 'Undefined'\n",
    "        self.salary = salary\n",
    "        Employee.new_salary += self.salary * Employee.increment #modified class attributes\n",
    "E1 = Employee(15000) \n",
    "print(\"Current Salary of Employee: {}\".format(E1.salary))   \n",
    "print(\"Increment Percentage of Employee: {}\".format(E1.new_salary))"
   ]
  },
  {
   "cell_type": "code",
   "execution_count": 4,
   "id": "53663500",
   "metadata": {},
   "outputs": [
    {
     "name": "stdout",
     "output_type": "stream",
     "text": [
      "Info about employee:  {'name': 'Imtiaz', 'age': 25}\n",
      "Info about class:  This class provides  name and age information of employee\n",
      "Info about method:  This method displays the name and age of employee\n",
      "Name of class:  Employee\n",
      "Employee module from:  __main__\n",
      "Parent class of employee is:  (<class 'object'>,)\n"
     ]
    }
   ],
   "source": [
    "# Built-in Class Attributes\n",
    "class Employee:\n",
    "   \"\"\"This class provides  name and age information of employee\"\"\"\n",
    "   def __init__(self, name, age):\n",
    "      self.name = name\n",
    "      self.age = age\n",
    "   def displayEmployee(self):\n",
    "      \"\"\"This method displays the name and age of employee\"\"\"\n",
    "      print(\"Name of Employee: \".format(self.name))\n",
    "      print(\"Age of Employee: \".format(self.age))\n",
    "\n",
    "E1 = Employee(\"Imtiaz\", 25)      \n",
    "print(\"Info about employee: \", E1.__dict__)          # Instance attributes\n",
    "print(\"Info about class: \",E1.__doc__) #info about employee class\n",
    "print(\"Info about method: \",E1.displayEmployee.__doc__) #info about displayEmployee method\n",
    "print(\"Name of class: \",Employee.__name__)  # Class name\n",
    "print(\"Employee module from: \",Employee.__module__)  # Module name\n",
    "print(\"Parent class of employee is: \",Employee.__bases__)    # Base clas"
   ]
  },
  {
   "cell_type": "code",
   "execution_count": 5,
   "id": "63ebbf2e",
   "metadata": {},
   "outputs": [
    {
     "name": "stdout",
     "output_type": "stream",
     "text": [
      "Name of Employee is Imtiaz and age is 25 \n"
     ]
    }
   ],
   "source": [
    "#Instance Attributes\n",
    "class Employee:\n",
    "   def __init__(self, name, age):\n",
    "      self.name = name\n",
    "      self.age = age\n",
    "      print(\"Name of Employee is {} and age is {} \".format(self.name,self.age))\n",
    "# Creating instances \n",
    "E1 = Employee(\"Imtiaz\", 25)"
   ]
  },
  {
   "cell_type": "markdown",
   "id": "16ea38a3",
   "metadata": {},
   "source": [
    "# Methods\n",
    "\n",
    "Methods belongs to an object of a class and used to perform specific operations. We can also specify methods as a function that performs certain task related to that class.\n",
    "\n",
    "Methods can be classified into 3 category:\n",
    "\n",
    "1. **Class Method:** It is a type of method that is bound to the class and no to the instance of the class. So, the method receives the cls as its first argument not self. This method can be called on the class itself rather than on instances of the class. It is useful when its necessary to work with the class itself rather than any instance of it.\n",
    "\n",
    "There are 2 ways to create class methods:\n",
    "\n",
    "- `classmethod()` function\n",
    "- `@classmethod` decorator\n",
    "\n",
    "2. **Static Method:** It is bound to a class rather than the object of the class. So, it can be called without an object for that class. Also, it can't modify the state of an object as they are not bound to it. When we want a method or functionality for the complete class then we can use it.\n",
    "\n",
    "3. **Instance Method:** It is a function that is defined inside a class that works with individual objects(instance) of that class. The 1st parameter of instance method is `self`. It is called in an object nit the class itself. It is helpful when we need to perform action specific to particular object.\n",
    "\n",
    "#### Class Method\n",
    "\n"
   ]
  },
  {
   "cell_type": "code",
   "execution_count": 6,
   "id": "c2a9fb63",
   "metadata": {},
   "outputs": [
    {
     "name": "stdout",
     "output_type": "stream",
     "text": [
      "Total no. of employee is: 2\n"
     ]
    }
   ],
   "source": [
    "#Class Method\n",
    "class Employee:\n",
    "   count = 0\n",
    "   def __init__(self, name, age):\n",
    "      self.name = name\n",
    "      self.age = age\n",
    "      Employee.count+=1\n",
    "   \n",
    "   @classmethod\n",
    "   def employeeCount(cls):\n",
    "      print(\"Total no. of employee is: {}\".format(Employee.count))   \n",
    "    \n",
    "# Creating instances \n",
    "E1 = Employee(\"Imtiaz\", 24)\n",
    "E2 = Employee(\"Rakib\", 25)\n",
    "Employee.employeeCount()"
   ]
  },
  {
   "cell_type": "markdown",
   "id": "0bdc98b7",
   "metadata": {},
   "source": [
    "#### Static Method\n"
   ]
  },
  {
   "cell_type": "code",
   "execution_count": 7,
   "id": "858bae8a",
   "metadata": {},
   "outputs": [
    {
     "name": "stdout",
     "output_type": "stream",
     "text": [
      "Employee ID is: 47 \n"
     ]
    }
   ],
   "source": [
    "# Static Method\n",
    "import random\n",
    "class Employee:\n",
    "   def __init__(self, name, age):\n",
    "      self.name = name\n",
    "      self.age = age\n",
    "   \n",
    "   @staticmethod\n",
    "   def employeeId():\n",
    "      print(\"Employee ID is: {} \".format(random.randint(1, 100)))   \n",
    "    \n",
    "# Creating instances \n",
    "#E1 = Employee.employeeId()\n",
    "E1 = Employee(\"Imtiaz\", 25)\n",
    "E1.employeeId() # calling static method using instance of class"
   ]
  },
  {
   "cell_type": "markdown",
   "id": "30b9c970",
   "metadata": {},
   "source": [
    "#### Instance Method\n"
   ]
  },
  {
   "cell_type": "code",
   "execution_count": 8,
   "id": "74fd66d2",
   "metadata": {},
   "outputs": [
    {
     "name": "stdout",
     "output_type": "stream",
     "text": [
      "Name of Employee is: Imtiaz\n",
      "Age of Employee is: 25\n"
     ]
    }
   ],
   "source": [
    "# Instance Method\n",
    "class Employee:\n",
    "   def __init__(self, name, age):\n",
    "      self.name = name\n",
    "      self.age = age\n",
    "   def displayEmployee(self):\n",
    "      print(\"Name of Employee is: {}\".format(self.name))\n",
    "      print(\"Age of Employee is: {}\".format(self.age))\n",
    "E1 = Employee(\"Imtiaz\", 25)  \n",
    "E1.displayEmployee() # calling instance method using instance of class  "
   ]
  },
  {
   "cell_type": "markdown",
   "id": "0de13d1e",
   "metadata": {},
   "source": [
    "### **The Four Pillars of OOP**\n",
    "\n",
    "##### **Encapsulation**  \n",
    "Encapsulation is the grouping of variables and methods into one unit (Class) without granting direct access to them.  \n",
    "\n",
    "**Benefits:**  \n",
    "✔ Reduces complexity  \n",
    "✔ Increases scalability and reusability  \n",
    "✔ Keeps information safe  \n",
    "\n",
    "**Access Modifiers in Python:**  \n",
    "\n",
    "| Type      | Syntax       | Accessibility                     | Python Convention          |\n",
    "|-----------|-------------|-----------------------------------|---------------------------|\n",
    "| Public    | No prefix    | Accessible from anywhere          | Default in Python          |\n",
    "| Protected | `_variable`  | Within class and subclasses       | Single underscore prefix   |\n",
    "| Private   | `__variable` | Only within defining class        | Double underscore prefix   |\n",
    "\n",
    "### Example:"
   ]
  },
  {
   "cell_type": "code",
   "execution_count": 16,
   "id": "b0ccbf7e",
   "metadata": {},
   "outputs": [
    {
     "name": "stdout",
     "output_type": "stream",
     "text": [
      "Rahim\n",
      "HR\n",
      "50000\n",
      "60000\n"
     ]
    }
   ],
   "source": [
    "class Employee:\n",
    "    def __init__(self, name, salary, department):\n",
    "        self.name = name                # Public attribute\n",
    "        self._department = department  # Protected attribute\n",
    "        self.__salary = salary         # Private attribute (encapsulated)\n",
    "\n",
    "    def get_salary(self):\n",
    "        return self.__salary\n",
    "\n",
    "    def set_salary(self, new_salary):\n",
    "        if new_salary > 0:\n",
    "            self.__salary = new_salary\n",
    "        else:\n",
    "            print(\"Invalid Salary\")\n",
    "\n",
    "# Create object\n",
    "emp_1 = Employee(\"Rahim\", 50000, \"HR\")\n",
    "\n",
    "# Access public attribute\n",
    "print(emp_1.name)\n",
    "\n",
    "# Access protected attribute\n",
    "print(emp_1._department)\n",
    "\n",
    "# Access private attribute via method\n",
    "print(emp_1.get_salary())\n",
    "\n",
    "# Update salary using setter\n",
    "emp_1.set_salary(60000)\n",
    "print(emp_1.get_salary())\n"
   ]
  },
  {
   "cell_type": "markdown",
   "id": "e273ba5d",
   "metadata": {},
   "source": [
    "####  **Abstraction**\n",
    "\n",
    "Abstraction is an OOP concept that involves hiding the complexity of a system by exposing only the essential details to the user. It allows you to focus on what an object does, rather than how it does it."
   ]
  },
  {
   "cell_type": "code",
   "execution_count": 15,
   "id": "0ff80319",
   "metadata": {},
   "outputs": [
    {
     "name": "stdout",
     "output_type": "stream",
     "text": [
      "Car is starting.\n",
      "Car is stopping.\n"
     ]
    }
   ],
   "source": [
    "from abc import ABC, abstractmethod\n",
    "\n",
    "# Abstrct Class\n",
    "class Vehicle(ABC):\n",
    "  @abstractmethod\n",
    "  def start(self):  # Abstract method\n",
    "        pass\n",
    "  def stop(self):\n",
    "        pass\n",
    "# SubClass\n",
    "class Car(Vehicle):\n",
    "  def start(self):\n",
    "        print(\"Car is starting.\")\n",
    "  def stop(self):\n",
    "        print(\"Car is stopping.\")\n",
    "car = Car()\n",
    "car.start()\n",
    "car.stop()"
   ]
  },
  {
   "cell_type": "markdown",
   "id": "5bc73376",
   "metadata": {},
   "source": [
    "#### **Inheritance**  \n",
    "\n",
    "Inheritance is an OOP concept that allows a class (child/subclass) to inherit properties and methods from another class (parent/superclass).  \n",
    "\n",
    "**Benefits:**  \n",
    "✔ Promotes code reusability  \n",
    "✔ Reduces duplication  \n",
    "✔ Supports hierarchical relationships  \n",
    "\n",
    "### Types of Inheritance in Python:  \n",
    "\n",
    "| Type                  | Description                          | Example Code Snippet              |\n",
    "|-----------------------|--------------------------------------|-----------------------------------|\n",
    "| **Single**           | One child, one parent                | `class Child(Parent):`            |\n",
    "| **Multiple**         | One child, multiple parents         | `class Child(Parent1, Parent2):`  |\n",
    "| **Multilevel**       | Child → Parent → Grandparent        | `class Child(Parent):`<br>`class Parent(Grandparent):` |\n",
    "| **Hierarchical**     | Multiple children, same parent      | `class Child1(Parent):`<br>`class Child2(Parent):` |\n",
    "\n",
    "### Example :\n"
   ]
  },
  {
   "cell_type": "code",
   "execution_count": 14,
   "id": "298fb74b",
   "metadata": {},
   "outputs": [
    {
     "name": "stdout",
     "output_type": "stream",
     "text": [
      "The animal makes a sound.\n",
      "The dog barks.\n"
     ]
    }
   ],
   "source": [
    "# Parent class\n",
    "class Animal:\n",
    "    def speak(self):\n",
    "        print(\"The animal makes a sound.\")\n",
    "\n",
    "# Child class\n",
    "class Dog(Animal):\n",
    "    def bark(self):\n",
    "        print(\"The dog barks.\")\n",
    "\n",
    "# Create an object of Dog\n",
    "d = Dog()\n",
    "d.speak()\n",
    "d.bark()\n"
   ]
  },
  {
   "cell_type": "markdown",
   "id": "023a1535",
   "metadata": {},
   "source": [
    "#### **Polymorphism**\n",
    "\n",
    "Polymorphism means \"many forms\". In OOP, it allows objects of different classes to be treated through the same interface, even if they behave differently.\n",
    "\n",
    "In Python, polymorphism is mainly achieved through:\n",
    "*   Method Overriding\n",
    "*   Dunder Methods (special methods like __str__, __add__, etc.)\n",
    "\n",
    "###### **Method Overriding**\n",
    "When a child class provides its own version of a method that is already defined in the parent class.\n",
    "\n",
    "Example:"
   ]
  },
  {
   "cell_type": "code",
   "execution_count": 13,
   "id": "6fa4eb1d",
   "metadata": {},
   "outputs": [
    {
     "name": "stdout",
     "output_type": "stream",
     "text": [
      "Animal speaks\n",
      "Dog barks\n"
     ]
    }
   ],
   "source": [
    "class Animal:\n",
    "    def speak(self):\n",
    "        print(\"Animal speaks\")\n",
    "class Dog(Animal):\n",
    "    def speak(self):\n",
    "        print(\"Dog barks\")\n",
    "a = Animal()\n",
    "d = Dog()\n",
    "\n",
    "a.speak()\n",
    "d.speak()"
   ]
  },
  {
   "cell_type": "markdown",
   "id": "8875db58",
   "metadata": {},
   "source": [
    "<h3>Operator Overloading</h3>\n",
    "\n",
    "Operator overloading in Python allows us to define custom behavior for operators (like +, -, *, etc.) when applied to objects of user-defined classes. By implementing special methods (also called `magic` or `dunder` methods, e.g.,` __add__`, `__sub__`), we can specify how operators should work with your class instances.\n",
    "\n",
    "Commonly Overloaded Operators in Python:\n",
    "\n",
    "| **Operator** | **Magic Method**    | **Description**                      |\n",
    "|--------------|---------------------|--------------------------------------|\n",
    "| `+`          | `__add__`           | Addition of two objects              |\n",
    "| `-`          | `__sub__`           | Subtraction of two objects           |\n",
    "| `*`          | `__mul__`           | Multiplication of two objects        |\n",
    "| `/`          | `__truediv__`       | Division of two objects              |\n",
    "| `//`         | `__floordiv__`      | Floor division of two objects        |\n",
    "| `==`         | `__eq__`            | Equality check                       |\n",
    "| `!=`         | `__ne__`            | Inequality check                     |\n",
    "| `<`          | `__lt__`            | Less than comparison                 |\n",
    "| `>`          | `__gt__`            | Greater than comparison              |\n"
   ]
  },
  {
   "cell_type": "code",
   "execution_count": 12,
   "id": "e36ba643",
   "metadata": {},
   "outputs": [
    {
     "name": "stdout",
     "output_type": "stream",
     "text": [
      "(3, 8)\n",
      "(2, 15)\n"
     ]
    }
   ],
   "source": [
    "class Point:\n",
    "    def __init__(self,x,y):\n",
    "        self.x=x\n",
    "        self.y=y\n",
    "        \n",
    "    def __add__(self,other):\n",
    "        return Point(self.x+other.x,self.y+other.y)\n",
    "\n",
    "    def __mul__(self,other):\n",
    "        return Point(self.x*other.x,self.y*other.y)\n",
    "\n",
    "    def __repr__(self):\n",
    "        return f\"({self.x}, {self.y})\"\n",
    "    \n",
    "\n",
    "a=Point(2,3)\n",
    "b=Point(1,5)\n",
    "\n",
    "c=a+b\n",
    "print(c)\n",
    "\n",
    "d=b*a\n",
    "print(d)\n",
    "    \n",
    "        "
   ]
  },
  {
   "cell_type": "markdown",
   "id": "cf4879f2",
   "metadata": {},
   "source": [
    "<h3>Summary of the four principles</h3>\n",
    "\n",
    "| **Principle**    | **Description**                                                                                               | **Key Features**                                                                                                  |\n",
    "|------------------|---------------------------------------------------------------------------------------------------------------|-------------------------------------------------------------------------------------------------------------------|\n",
    "| **Encapsulation** | Hides internal state and restricts access to it, exposing only necessary functionality.                      | - Protects data<br>- Uses getter/setter methods<br>- Data is private and accessed via public methods               |\n",
    "| **Abstraction**   | Hides complexity and shows only essential features. Focuses on **what** an object does, not **how**.           | - Simplifies interaction<br>- Provides a clear interface<br>- Achieved with abstract classes/methods                |\n",
    "| **Inheritance**   | Allows one class to inherit the properties and methods of another, promoting code reuse.                     | - Code reuse<br>- Subclass extends or overrides base class behavior<br>- Creates class hierarchies                 |\n",
    "| **Polymorphism**  | Allows objects of different classes to be treated as instances of the same class, enabling method behavior variation. | - Methods behave differently based on object type<br>- Achieved with method overriding<br>- Increases flexibility   |\n",
    "\n"
   ]
  },
  {
   "cell_type": "markdown",
   "id": "8044a5e7",
   "metadata": {},
   "source": [
    "#### **Dunder (Magic) Method**\n",
    "Dunder (double underscore) methods allow operator overloading and customization of built-in behavior.\n",
    "\n",
    "Example:"
   ]
  },
  {
   "cell_type": "code",
   "execution_count": 11,
   "id": "9ed6f726",
   "metadata": {},
   "outputs": [
    {
     "name": "stdout",
     "output_type": "stream",
     "text": [
      "250\n",
      "Book with 100 pages\n"
     ]
    }
   ],
   "source": [
    "class Book:\n",
    "    def __init__(self, pages):\n",
    "        self.pages = pages\n",
    "\n",
    "    def __add__(self, other):\n",
    "        return self.pages + other.pages\n",
    "\n",
    "    def __str__(self):\n",
    "        return f\"Book with {self.pages} pages\"\n",
    "\n",
    "b1 = Book(100)\n",
    "b2 = Book(150)\n",
    "\n",
    "print(b1 + b2)\n",
    "print(str(b1))\n"
   ]
  },
  {
   "cell_type": "markdown",
   "id": "16c2e25e",
   "metadata": {},
   "source": [
    "### **Decorator**\n",
    "A decorator is a function that modifies or enhances another function or method without changing its actual code. It's a powerful and elegant way to extend behavior.\n",
    "\n",
    "Example:"
   ]
  },
  {
   "cell_type": "code",
   "execution_count": 10,
   "id": "a5519649",
   "metadata": {},
   "outputs": [
    {
     "name": "stdout",
     "output_type": "stream",
     "text": [
      "Before the function runs\n",
      "Hello!\n",
      "After the function runs\n"
     ]
    }
   ],
   "source": [
    "def my_decorator(func):\n",
    "    def wrapper():\n",
    "        print(\"Before the function runs\")\n",
    "        func()\n",
    "        print(\"After the function runs\")\n",
    "    return wrapper\n",
    "@my_decorator\n",
    "def say_hello():\n",
    "    print(\"Hello!\")\n",
    "\n",
    "# Call the decorated function\n",
    "say_hello()"
   ]
  },
  {
   "cell_type": "markdown",
   "id": "306180cb",
   "metadata": {},
   "source": [
    "# Getter and Setter methods"
   ]
  },
  {
   "cell_type": "code",
   "execution_count": 19,
   "id": "8b7b13d9",
   "metadata": {},
   "outputs": [
    {
     "name": "stdout",
     "output_type": "stream",
     "text": [
      "Initial Price: 300\n",
      "Updated Price: 350\n",
      "Invalid price! Price must be positive.\n",
      "'The Alchemist' by Paulo Coelho, Price: 350\n"
     ]
    }
   ],
   "source": [
    "book = Book(\"The Alchemist\", \"Paulo Coelho\", 300)\n",
    "\n",
    "# Access price using getter\n",
    "print(\"Initial Price:\", book.get_price())\n",
    "\n",
    "# Update price using setter\n",
    "book.set_price(350)\n",
    "print(\"Updated Price:\", book.get_price())\n",
    "\n",
    "# Try setting invalid price\n",
    "book.set_price(-100)  # Won’t change price\n",
    "\n",
    "# Print full summary\n",
    "print(book.get_summary())\n"
   ]
  },
  {
   "cell_type": "markdown",
   "id": "b413a761",
   "metadata": {},
   "source": [
    "# Using `@property`"
   ]
  },
  {
   "cell_type": "code",
   "execution_count": 20,
   "id": "b9181b71",
   "metadata": {},
   "outputs": [
    {
     "name": "stdout",
     "output_type": "stream",
     "text": [
      "400\n",
      "450\n",
      "Invalid price.\n"
     ]
    }
   ],
   "source": [
    "class Book:\n",
    "    def __init__(self, title, author, price):\n",
    "        self.title = title\n",
    "        self.author = author\n",
    "        self.__price = price\n",
    "\n",
    "    # Getter\n",
    "    @property\n",
    "    def price(self):\n",
    "        return self.__price\n",
    "\n",
    "    # Setter\n",
    "    @price.setter\n",
    "    def price(self, value):\n",
    "        if value > 0:\n",
    "            self.__price = value\n",
    "        else:\n",
    "            print(\"Invalid price.\")\n",
    "\n",
    "    def get_summary(self):\n",
    "        return f\"{self.title} by {self.author}, Price: {self.__price}\"\n",
    "\n",
    "book = Book(\"Rich Dad Poor Dad\", \"Robert Kiyosaki\", 400)\n",
    "print(book.price)  # calls getter\n",
    "book.price = 450   # calls setter\n",
    "print(book.price)\n",
    "book.price = -100  # prints warning\n"
   ]
  }
 ],
 "metadata": {
  "kernelspec": {
   "display_name": "base",
   "language": "python",
   "name": "python3"
  },
  "language_info": {
   "codemirror_mode": {
    "name": "ipython",
    "version": 3
   },
   "file_extension": ".py",
   "mimetype": "text/x-python",
   "name": "python",
   "nbconvert_exporter": "python",
   "pygments_lexer": "ipython3",
   "version": "3.12.4"
  }
 },
 "nbformat": 4,
 "nbformat_minor": 5
}
