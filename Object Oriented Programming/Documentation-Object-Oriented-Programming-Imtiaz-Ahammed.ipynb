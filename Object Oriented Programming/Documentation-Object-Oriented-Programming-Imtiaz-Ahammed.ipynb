{
 "cells": [
  {
   "cell_type": "markdown",
   "id": "b8e171d4",
   "metadata": {},
   "source": [
    "# Class\n"
   ]
  },
  {
   "cell_type": "markdown",
   "id": "47487f23",
   "metadata": {},
   "source": [
    "It is a blueprint for creating object. Object is also known as instances or instances of class.\n",
    "\n",
    "- `s1` Object/instances is created using `Student` class\n",
    "- Name is a attribute of `Student` class\n"
   ]
  },
  {
   "cell_type": "code",
   "execution_count": null,
   "id": "f9d213ed",
   "metadata": {},
   "outputs": [
    {
     "name": "stdout",
     "output_type": "stream",
     "text": [
      "<__main__.Student object at 0x000001DA524D4410>\n",
      "Imtiaz\n"
     ]
    }
   ],
   "source": [
    "class Student:\n",
    "    name = 'Imtiaz'\n",
    "s1 = Student()\n",
    "print(s1) #isntance of class Student\n",
    "print(s1.name)    "
   ]
  },
  {
   "cell_type": "markdown",
   "id": "3406aaac",
   "metadata": {},
   "source": [
    "# Constructor\n"
   ]
  },
  {
   "cell_type": "markdown",
   "id": "32a912f3",
   "metadata": {},
   "source": [
    "Constructor: All classes have a function called `__init__()` that is run when an instance of the class is created. This function is called a **constructor**. The `__init__()` function allows you to set the initial values of the attributes of the class.\n",
    "\n",
    "It is a special method that is automatically called when an object of the class is created. However, if we don't initialize it while creating class, python will automatically do that for us. So, it is always initialized by default when we create object from a class.\n",
    "\n",
    "The constructor always takes a parameter known as self parameter. This actually refers or points to the object created from the actually. In other words, it actually points to itself. So, self will always be the 1st parameter for constructor and can also take multiple parameters as per requirements. However, it is not necessary that we name it self, we can specify with other names as well.\n",
    "\n",
    "The self parameter is a reference to the current instance of the class and used to access variables belongs to the class.\n",
    "\n",
    "There are 2 types of Constructor:\n",
    "\n",
    "1. **Default/Non-Parameterized:** It doesn't take any other parameter rather than self. So, it initializes a object with default values.\n",
    "2. **Parameterized:** It accepts other parameters along with self. So, it initializes object attributes with values passed by the user.\n"
   ]
  },
  {
   "cell_type": "markdown",
   "id": "42c805e6",
   "metadata": {},
   "source": [
    "#### Default Constructor\n"
   ]
  },
  {
   "cell_type": "code",
   "execution_count": null,
   "id": "f5a7710c",
   "metadata": {},
   "outputs": [
    {
     "name": "stdout",
     "output_type": "stream",
     "text": [
      "Positon: Undefined\n",
      "Salary: 0\n"
     ]
    }
   ],
   "source": [
    "#Default Constructor\n",
    "class Employee:\n",
    "    def __init__(self):\n",
    "        self.position = 'Undefined'\n",
    "        self.salary = 0\n",
    "E1 = Employee() \n",
    "print(\"Positon: {}\".format(E1.position))\n",
    "print(\"Salary: {}\".format(E1.salary))   "
   ]
  },
  {
   "cell_type": "markdown",
   "id": "517beba6",
   "metadata": {},
   "source": [
    "#### Parameterized Constructor\n"
   ]
  },
  {
   "cell_type": "code",
   "execution_count": 9,
   "id": "9e492b08",
   "metadata": {},
   "outputs": [
    {
     "name": "stdout",
     "output_type": "stream",
     "text": [
      "Name: Imtiaz\n",
      "Age: 25\n"
     ]
    }
   ],
   "source": [
    "#Parameterized Constructor\n",
    "class Employee:\n",
    "    def __init__(self, name, age):\n",
    "        self.name = name\n",
    "        self.age = age\n",
    "E1 = Employee(\"Imtiaz\", 25) \n",
    "print(\"Name: {}\".format(E1.name))\n",
    "print(\"Age: {}\".format(E1.age))   "
   ]
  },
  {
   "cell_type": "markdown",
   "id": "603348d3",
   "metadata": {},
   "source": [
    "# Attributes\n"
   ]
  },
  {
   "cell_type": "markdown",
   "id": "7fea91f3",
   "metadata": {},
   "source": [
    "The properties of variables defined inside the class in known as Attributes. The properties of variables defined inside the class in known as Attributes.\n",
    "\n",
    "There are 2 types of Attributes:\n",
    "\n",
    "1. **Class Attributes:** It is a type of variable that belong to a class and it's value is shared among all the instances of that class. A class attribute remains the same for every instance of the class. It is defined in the class but outside any method. They can't be initialized inside `__init__()` constructor. In other words, class attribute is available to the class as well as its object. Class attributes can be accessed by object name followed by `(.)` notation.\n",
    "2. **Instance Attributes:** It is a type of variable that is specific to an individual object of a class. It is defined inside `__init__()` method. The first parameter of this method is self and using this parameter instance attributes are defined.\n"
   ]
  },
  {
   "cell_type": "markdown",
   "id": "67d1fd26",
   "metadata": {},
   "source": [
    "## Built-in Class Attributes\n",
    "\n",
    "Every python classes has some built-in attributes and they can be accessed using the class name followed by the `(.)` notation.\n",
    "\n",
    "1. `__dict__` - contains all attributes and methods of the class/object as a dictionary\n",
    "2. `__doc__` - stores the class's documentation as docstring. Can be accessed by using `help()` command.\n",
    "3. `__name__` - returns the class name as string.\n",
    "4. `__module__` - shows the name of the module where the class is defined.\n",
    "5. `__bases__` - tuple of base classes of the current class.\n"
   ]
  },
  {
   "cell_type": "markdown",
   "id": "58e8e5dc",
   "metadata": {},
   "source": [
    "#### Class Attributes\n"
   ]
  },
  {
   "cell_type": "code",
   "execution_count": 2,
   "id": "7549e21f",
   "metadata": {},
   "outputs": [
    {
     "name": "stdout",
     "output_type": "stream",
     "text": [
      "Increment Percentage of Employee: 1.5\n"
     ]
    }
   ],
   "source": [
    "#class attributes\n",
    "class Employee:\n",
    "    increment = 1.5\n",
    "    def __init__(self):\n",
    "        self.position = 'Undefined'\n",
    "        self.salary = 0\n",
    "E1 = Employee() \n",
    "print(\"Increment Percentage of Employee: {}\".format(E1.increment)) "
   ]
  },
  {
   "cell_type": "code",
   "execution_count": 26,
   "id": "107e2150",
   "metadata": {},
   "outputs": [
    {
     "name": "stdout",
     "output_type": "stream",
     "text": [
      "Current Salary of Employee: 15000\n",
      "Increment Percentage of Employee: 22500.0\n"
     ]
    }
   ],
   "source": [
    "# Modifying class attributes\n",
    "class Employee:\n",
    "    increment = 1.5\n",
    "    new_salary = 0\n",
    "    def __init__(self, salary):\n",
    "        self.position = 'Undefined'\n",
    "        self.salary = salary\n",
    "        Employee.new_salary += self.salary * Employee.increment #modified class attributes\n",
    "E1 = Employee(15000) \n",
    "print(\"Current Salary of Employee: {}\".format(E1.salary))   \n",
    "print(\"Increment Percentage of Employee: {}\".format(E1.new_salary))"
   ]
  },
  {
   "cell_type": "code",
   "execution_count": null,
   "id": "c11f6567",
   "metadata": {},
   "outputs": [
    {
     "name": "stdout",
     "output_type": "stream",
     "text": [
      "Info about employee:  {'name': 'Imtiaz', 'age': 25}\n",
      "Info about class:  This class provides  name and age information of employee\n",
      "Info about method:  This method displays the name and age of employee\n",
      "Name of class:  Employee\n",
      "Employee module from:  __main__\n",
      "Parent class of employee is:  (<class 'object'>,)\n"
     ]
    }
   ],
   "source": [
    "# Built-in Class Attributes\n",
    "class Employee:\n",
    "   \"\"\"This class provides  name and age information of employee\"\"\"\n",
    "   def __init__(self, name, age):\n",
    "      self.name = name\n",
    "      self.age = age\n",
    "   def displayEmployee(self):\n",
    "      \"\"\"This method displays the name and age of employee\"\"\"\n",
    "      print(\"Name of Employee: \".format(self.name))\n",
    "      print(\"Age of Employee: \".format(self.age))\n",
    "\n",
    "E1 = Employee(\"Imtiaz\", 25)      \n",
    "print(\"Info about employee: \", E1.__dict__)          # Instance attributes\n",
    "print(\"Info about class: \",E1.__doc__) #info about employee class\n",
    "print(\"Info about method: \",E1.displayEmployee.__doc__) #info about displayEmployee method\n",
    "print(\"Name of class: \",Employee.__name__)  # Class name\n",
    "print(\"Employee module from: \",Employee.__module__)  # Module name\n",
    "print(\"Parent class of employee is: \",Employee.__bases__)    # Base clas"
   ]
  },
  {
   "cell_type": "markdown",
   "id": "b94644ad",
   "metadata": {},
   "source": [
    "#### Instance Attributes\n"
   ]
  },
  {
   "cell_type": "code",
   "execution_count": 27,
   "id": "2a1dc26f",
   "metadata": {},
   "outputs": [
    {
     "name": "stdout",
     "output_type": "stream",
     "text": [
      "Name of Employee is Imtiaz and age is 25 \n"
     ]
    }
   ],
   "source": [
    "#Instance Attributes\n",
    "class Employee:\n",
    "   def __init__(self, name, age):\n",
    "      self.name = name\n",
    "      self.age = age\n",
    "      print(\"Name of Employee is {} and age is {} \".format(self.name,self.age))\n",
    "# Creating instances \n",
    "E1 = Employee(\"Imtiaz\", 25)"
   ]
  },
  {
   "cell_type": "markdown",
   "id": "88a8e525",
   "metadata": {},
   "source": [
    "# Methods\n"
   ]
  },
  {
   "cell_type": "markdown",
   "id": "102a5f11",
   "metadata": {},
   "source": [
    "Methods belongs to an object of a class and used to perform specific operations. We can also specify methods as a function that performs certain task related to that class.\n",
    "\n",
    "Methods can be classified into 3 category:\n",
    "\n",
    "1. **Class Method:** It is a type of method that is bound to the class and no to the instance of the class. So, the method receives the cls as its first argument not self. This method can be called on the class itself rather than on instances of the class. It is useful when its necessary to work with the class itself rather than any instance of it.\n",
    "\n",
    "There are 2 ways to create class methods:\n",
    "\n",
    "- `classmethod()` function\n",
    "- `@classmethod` decorator\n",
    "\n",
    "2. **Static Method:** It is bound to a class rather than the object of the class. So, it can be called without an object for that class. Also, it can't modify the state of an object as they are not bound to it. When we want a method or functionality for the complete class then we can use it.\n",
    "\n",
    "3. **Instance Method:** It is a function that is defined inside a class that works with individual objects(instance) of that class. The 1st parameter of instance method is `self`. It is called in an object nit the class itself. It is helpful when we need to perform action specific to particular object.\n"
   ]
  },
  {
   "cell_type": "markdown",
   "id": "7dbcec92",
   "metadata": {},
   "source": [
    "#### Class Method\n"
   ]
  },
  {
   "cell_type": "code",
   "execution_count": null,
   "id": "16c07915",
   "metadata": {},
   "outputs": [
    {
     "name": "stdout",
     "output_type": "stream",
     "text": [
      "Total no. of employee is: 2\n"
     ]
    }
   ],
   "source": [
    "#Class Method\n",
    "class Employee:\n",
    "   count = 0\n",
    "   def __init__(self, name, age):\n",
    "      self.name = name\n",
    "      self.age = age\n",
    "      Employee.count+=1\n",
    "   \n",
    "   @classmethod\n",
    "   def employeeCount(cls):\n",
    "      print(\"Total no. of employee is: {}\".format(Employee.count))   \n",
    "    \n",
    "# Creating instances \n",
    "E1 = Employee(\"Imtiaz\", 24)\n",
    "E2 = Employee(\"Rakib\", 25)\n",
    "Employee.employeeCount()"
   ]
  },
  {
   "cell_type": "markdown",
   "id": "fbc6270c",
   "metadata": {},
   "source": [
    "#### Static Method\n"
   ]
  },
  {
   "cell_type": "code",
   "execution_count": 43,
   "id": "544015a3",
   "metadata": {},
   "outputs": [
    {
     "name": "stdout",
     "output_type": "stream",
     "text": [
      "Employee ID is: 62 \n"
     ]
    }
   ],
   "source": [
    "# Static Method\n",
    "import random\n",
    "class Employee:\n",
    "   def __init__(self, name, age):\n",
    "      self.name = name\n",
    "      self.age = age\n",
    "   \n",
    "   @staticmethod\n",
    "   def employeeId():\n",
    "      print(\"Employee ID is: {} \".format(random.randint(1, 100)))   \n",
    "    \n",
    "# Creating instances \n",
    "#E1 = Employee.employeeId()\n",
    "E1 = Employee(\"Imtiaz\", 25)\n",
    "E1.employeeId() # calling static method using instance of class"
   ]
  },
  {
   "cell_type": "markdown",
   "id": "7b863553",
   "metadata": {},
   "source": [
    "#### Instance Method\n"
   ]
  },
  {
   "cell_type": "code",
   "execution_count": 53,
   "id": "9625ea8f",
   "metadata": {},
   "outputs": [
    {
     "name": "stdout",
     "output_type": "stream",
     "text": [
      "Name of Employee is: Imtiaz\n",
      "Age of Employee is: 25\n"
     ]
    }
   ],
   "source": [
    "# Instance Method\n",
    "class Employee:\n",
    "   def __init__(self, name, age):\n",
    "      self.name = name\n",
    "      self.age = age\n",
    "   def displayEmployee(self):\n",
    "      print(\"Name of Employee is: {}\".format(self.name))\n",
    "      print(\"Age of Employee is: {}\".format(self.age))\n",
    "E1 = Employee(\"Imtiaz\", 25)  \n",
    "E1.displayEmployee() # calling instance method using instance of class  "
   ]
  },
  {
   "cell_type": "markdown",
   "id": "665a5434",
   "metadata": {},
   "source": [
    "Pillars of OOP\n",
    "\n",
    "1. Encapsulation\n",
    "2. Abstraction\n",
    "3. Inheritance\n",
    "4. Polymorphism\n"
   ]
  },
  {
   "cell_type": "markdown",
   "id": "827eb412",
   "metadata": {},
   "source": [
    "# Encapsulation\n",
    "\n",
    "It refers to the concept of hiding internal details and only exposing necessary parts of an object to the outside world.\n",
    "\n",
    "Use Case:\n",
    "\n",
    "- Protect Data\n",
    "- Control Access\n",
    "- Reduce Complexity\n",
    "\n",
    "Public Access: A class member is said to be public if it can be accessed from anywhere in the program.\n",
    "\n",
    "Private Access: A class member is saud ti be private if it can be accessed within the class.\n",
    "\n",
    "However, in python private members are written with `(__)`\n"
   ]
  },
  {
   "cell_type": "code",
   "execution_count": null,
   "id": "3aeb3b25",
   "metadata": {},
   "outputs": [],
   "source": [
    "# Public Members \n",
    "class Employee:\n",
    "   def __init__(self, name, age):\n",
    "      self.name = name\n",
    "      self.age = age\n",
    "E1 = Employee(\"Imtiaz\", 25)  \n",
    "print(\"Name of Employee is: {}\".format(E1.name)) #accessing public member outside class\n",
    "print(\"Age of Employee is: {}\".format(E1.age)) #accessing public member outside class"
   ]
  },
  {
   "cell_type": "code",
   "execution_count": null,
   "id": "ebccc716",
   "metadata": {},
   "outputs": [
    {
     "name": "stdout",
     "output_type": "stream",
     "text": [
      "Name of Employee is: Imtiaz\n",
      "Age of Employee is: 25\n"
     ]
    },
    {
     "ename": "AttributeError",
     "evalue": "'Employee' object has no attribute '__salary'",
     "output_type": "error",
     "traceback": [
      "\u001b[31m---------------------------------------------------------------------------\u001b[39m",
      "\u001b[31mAttributeError\u001b[39m                            Traceback (most recent call last)",
      "\u001b[36mCell\u001b[39m\u001b[36m \u001b[39m\u001b[32mIn[54]\u001b[39m\u001b[32m, line 10\u001b[39m\n\u001b[32m      8\u001b[39m \u001b[38;5;28mprint\u001b[39m(\u001b[33m\"\u001b[39m\u001b[33mName of Employee is: \u001b[39m\u001b[38;5;132;01m{}\u001b[39;00m\u001b[33m\"\u001b[39m.format(E1.name)) \u001b[38;5;66;03m#accessing public member outside class\u001b[39;00m\n\u001b[32m      9\u001b[39m \u001b[38;5;28mprint\u001b[39m(\u001b[33m\"\u001b[39m\u001b[33mAge of Employee is: \u001b[39m\u001b[38;5;132;01m{}\u001b[39;00m\u001b[33m\"\u001b[39m.format(E1.age)) \u001b[38;5;66;03m#accessing public member outside class\u001b[39;00m\n\u001b[32m---> \u001b[39m\u001b[32m10\u001b[39m \u001b[38;5;28mprint\u001b[39m(\u001b[33m\"\u001b[39m\u001b[33mSalary of Employee is: \u001b[39m\u001b[38;5;132;01m{}\u001b[39;00m\u001b[33m\"\u001b[39m.format(\u001b[43mE1\u001b[49m\u001b[43m.\u001b[49m\u001b[43m__salary\u001b[49m)) \u001b[38;5;66;03m#accessing private member outside class\u001b[39;00m\n",
      "\u001b[31mAttributeError\u001b[39m: 'Employee' object has no attribute '__salary'"
     ]
    }
   ],
   "source": [
    "# Private Members \n",
    "class Employee:\n",
    "   def __init__(self, name, age):\n",
    "      self.name = name\n",
    "      self.age = age\n",
    "      self.__salary = 20,000 # private member\n",
    "E1 = Employee(\"Imtiaz\", 25)  \n",
    "print(\"Name of Employee is: {}\".format(E1.name)) #accessing public member outside class\n",
    "print(\"Age of Employee is: {}\".format(E1.age)) #accessing public member outside class\n",
    "print(\"Salary of Employee is: {}\".format(E1.__salary)) #accessing private member outside class will give error"
   ]
  },
  {
   "cell_type": "markdown",
   "id": "b2d82f6d",
   "metadata": {},
   "source": [
    "# Abstraction\n",
    "\n",
    "It refers to programming approach by which only the relevant data about an object is exposed, hiding all the other details. This approach helps in reducing complexity and increasing the efficiency of application development.\n",
    "\n",
    "There are 2 types of Python Abstraction:\n",
    "\n",
    "1. Class Abstraction\n",
    "2. Method Abstraction\n"
   ]
  },
  {
   "cell_type": "markdown",
   "id": "fa65c18d",
   "metadata": {},
   "source": [
    "#### Class Abstraction\n",
    "\n",
    "According to this a class can't be instantiated on its own but it needs to be subclassed. It ensures that subclass follow a consistent structure.\n",
    "\n",
    "python provides the `abc` module to define ABCs(Abstract Base Class) and enforce the implementation of abstract methods in subclasses. Also, `@abstractmethod` decorator is used to mark abstract method.\n",
    "\n",
    "#### Method Abstraction\n",
    "\n",
    "It refers to defining what a method should do, without specifying how it does, leaving the implementation of the method to the subclass.\n",
    "\n",
    "So, we don't write the method logic to base class. We write the logic in the subclass.\n"
   ]
  },
  {
   "cell_type": "code",
   "execution_count": null,
   "id": "7f028219",
   "metadata": {},
   "outputs": [
    {
     "name": "stdout",
     "output_type": "stream",
     "text": [
      "Role of Imtiaz is Manager\n"
     ]
    }
   ],
   "source": [
    "from abc import ABC, abstractmethod\n",
    "class Employee(ABC): # class abstract base class\n",
    "    increment = 1.5\n",
    "    new_salary = 0\n",
    "    def __init__(self, name):\n",
    "        self.name = name\n",
    "    @abstractmethod\n",
    "    def job_post(self): # method abstraction\n",
    "        pass \n",
    "class Manager(Employee): # concrete class\n",
    "    def job_post(self): #\n",
    "        return \"Manager\"       \n",
    "E1 = Manager(\"Imtiaz\")\n",
    "print(\"Role of {} is {}\".format(E1.name, E1.job_post())) # calling abstract method using instance of class"
   ]
  },
  {
   "cell_type": "markdown",
   "id": "bb36df19",
   "metadata": {},
   "source": [
    "# Inheritance\n",
    "\n",
    "It refers to allowing a class to inherit attributes and methods from another class (parent or base class). This promotes code reuse, modularity and hierarchical class structure.\n",
    "\n",
    "#### Parent Class:\n",
    "\n",
    "- Base Class from where other class inherits\n",
    "- Contains attributes and methods that child classes can use\n",
    "\n",
    "#### Child Class:\n",
    "\n",
    "- Derived Class that inherits from parent class\n",
    "- Automatically gets all attributes and methods of the parent class unless overridden.\n",
    "- `super()` is used to call the parent class methods and attributes.\n",
    "\n",
    "#### Types of Inheritance\n",
    "\n",
    "- Single: A child class inherits from one parent class.\n",
    "- Multiple: A child class inherits from more than one parent class.\n",
    "- Multilevel: A class derived from a class which is derived from another class.\n",
    "- Hierarchical: Contains multiple derived classes that are inherited from a single parent class.\n",
    "- Hybrid: Combination of two or more types of inheritance\n"
   ]
  },
  {
   "cell_type": "code",
   "execution_count": null,
   "id": "171c94de",
   "metadata": {},
   "outputs": [
    {
     "name": "stdout",
     "output_type": "stream",
     "text": [
      "Name: Imtiaz, Salary: 10000\n",
      "Imtiaz is the intern of Software department\n"
     ]
    }
   ],
   "source": [
    "class Employee:\n",
    "    def __init__(self, name, salary):\n",
    "        self.name = name\n",
    "        self.salary = salary\n",
    "\n",
    "    def display_info(self):\n",
    "        print(f\"Name: {self.name}, Salary: {self.salary}\")\n",
    "\n",
    "class Dep(Employee):  # Inheriting from Parent Employee\n",
    "    def __init__(self, name, salary, department):\n",
    "        super().__init__(name, salary)  # Call parent constructor\n",
    "        self.department = department\n",
    "\n",
    "    def display_role(self): # method of child class\n",
    "        print(f\"{self.name} is the intern of {self.department} department\") #parent class attribute\n",
    "\n",
    "E1 = Dep(\"Imtiaz\", 10000, \"Software\") # creating instance of child class\n",
    "E1.display_info() # calling method of parent class using instance of child class\n",
    "E1.display_role() # calling method of child class using instance of child class"
   ]
  },
  {
   "cell_type": "markdown",
   "id": "91684b5f",
   "metadata": {},
   "source": [
    "# Polymorphism\n",
    "\n",
    "Polymorphism is a foundational concept in programming that allows entities like functions, methods or operators to behave differently based on the type of data they are handling. Derived from Greek, the term literally means “many forms”.\n",
    "\n",
    "### Runtime Polymorphism (via Method Overriding)\n",
    "\n",
    "- Method overriding lets a subclass define its own version of a method already present in its superclass.\n",
    "\n",
    "- The method name and parameters must remain the same in both parent and child classes.\n",
    "\n",
    "- When the method is called through an instance of the child class, the child’s implementation gets executed.\n",
    "\n",
    "- This mechanism enables runtime polymorphism, where the method behavior is decided at runtime based on the object's type.\n",
    "\n",
    "### Compile-Time Polymorphism (via Method Overloading)\n",
    "\n",
    "- Method overloading means defining multiple methods with the same name but with different parameters (number or type).\n",
    "\n",
    "- It is directly supported by languages like java.\n",
    "\n",
    "- In Python, true method overloading is not supported natively, but similar behavior can be achieved using:\n",
    "\n",
    "  Default arguments\n",
    "\n",
    "  `*args` and `**kwargs` to accept a variable number of arguments\n",
    "\n",
    "  - It is considered a form of compile-time polymorphism in other languages.\n"
   ]
  },
  {
   "cell_type": "code",
   "execution_count": 7,
   "id": "30ce5222",
   "metadata": {},
   "outputs": [
    {
     "name": "stdout",
     "output_type": "stream",
     "text": [
      "DevOps works on could deployment and operations\n",
      "Developer writes code\n"
     ]
    }
   ],
   "source": [
    "# Runtime Polymorphism\n",
    "# Method Overriding\n",
    "\n",
    "class Employee:\n",
    "    def work(self):\n",
    "        print(\"Employee works\")\n",
    "\n",
    "class DevOps(Employee):\n",
    "    def work(self):\n",
    "        print(\"DevOps works on could deployment and operations\")\n",
    "\n",
    "class Developer(Employee):\n",
    "    def work(self):\n",
    "        print(\"Developer writes code\")\n",
    "\n",
    "# Runtime polymorphism in action\n",
    "def show_work(employee):\n",
    "    employee.work()\n",
    "\n",
    "e1 = DevOps()\n",
    "e2 = Developer()\n",
    "\n",
    "show_work(e1)\n",
    "show_work(e2)"
   ]
  },
  {
   "cell_type": "markdown",
   "id": "8431d89b",
   "metadata": {},
   "source": [
    "# Dunder Function\n",
    "\n",
    "It is special type of function that comes with double underscore at the beginning or end of the function. Some of the Dunder Function used mostly are as following:\n",
    "\n",
    "- Object creation `(__init__, __new__)`\n",
    "- String representation `(__str__, __repr__)`\n",
    "- Arithmetic operations `(__add__, __sub__, __mul__)`\n",
    "- Comparisons `(__eq__, __lt__, __gt__)`\n",
    "- Container-like behavior (like lists and dictionaries) `(__len__, __getitem__, __setitem__)`\n",
    "- Context management `(__enter__, __exit__)`\n"
   ]
  }
 ],
 "metadata": {
  "kernelspec": {
   "display_name": "base",
   "language": "python",
   "name": "python3"
  },
  "language_info": {
   "codemirror_mode": {
    "name": "ipython",
    "version": 3
   },
   "file_extension": ".py",
   "mimetype": "text/x-python",
   "name": "python",
   "nbconvert_exporter": "python",
   "pygments_lexer": "ipython3",
   "version": "3.12.9"
  }
 },
 "nbformat": 4,
 "nbformat_minor": 5
}
