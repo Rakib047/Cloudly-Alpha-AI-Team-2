{
 "cells": [
  {
   "cell_type": "markdown",
   "id": "998c3377",
   "metadata": {},
   "source": [
    "<h1>Object-Oriented Programming in Python</h1>"
   ]
  },
  {
   "cell_type": "markdown",
   "id": "930ce343",
   "metadata": {},
   "source": [
    "<h3>Introduction to Object-Oriented Programming</h3>\n",
    "\n",
    "<h4>What is OOP</h4>\n",
    "\n",
    "Object-Oriented Programming (OOP) is a programming paradigm that uses `objects` and `classes` to structure code. It focuses on organizing software design around data, or objects, rather than functions and logic. OOP allows for code *reusability*, *scalability*, and *easier maintenance*."
   ]
  },
  {
   "cell_type": "markdown",
   "id": "bf15b8cf",
   "metadata": {},
   "source": [
    "<h4>What is Class?</h4>\n",
    "\n",
    "A class is a blueprint or prototype for creating objects. It defines the structure (attributes) and behaviors (methods) of the objects that will be created from it.\n",
    "\n",
    "<h4>What is Object?</h4>\n",
    "\n",
    "An object is an `instance` of a class. It has `attributes` and `methods` that are defined by the class. Each object can have different values for its attributes.\n",
    "\n",
    "<h4>What is Constructor?</h4>\n",
    "\n",
    "A constructor is a `special method` in a class that is called when an object is created. It is typically used to initialize the object's attributes. In Python, the constructor is defined using the `__init__` method.\n"
   ]
  },
  {
   "cell_type": "markdown",
   "id": "401c7c10",
   "metadata": {},
   "source": [
    "<h3>Example Code</h3>"
   ]
  },
  {
   "cell_type": "code",
   "execution_count": null,
   "id": "511b1712",
   "metadata": {},
   "outputs": [
    {
     "name": "stdout",
     "output_type": "stream",
     "text": [
      "Car brand: Toyota, Model: Allion\n"
     ]
    }
   ],
   "source": [
    "# Example of Car class\n",
    "class Car:\n",
    "    def __init__(self, brand, model):\n",
    "        self.brand = brand\n",
    "        self.model = model\n",
    "\n",
    "    def display_info(self):\n",
    "        print(f\"Car brand: {self.brand}, Model: {self.model}\") \n",
    "\n",
    "# Creating of an object of class Car \n",
    "my_car = Car(\"Toyota\", \"Allion\") \n",
    "my_car.display_info() \n"
   ]
  },
  {
   "cell_type": "markdown",
   "id": "7eeb9a6d",
   "metadata": {},
   "source": [
    "<h3>The four principles of OOP</h3>\n",
    "\n",
    "OOP is built on four main principles: `Encapsulation`, `Abstraction`, `Inheritance`, and `Polymorphism`. These principles allow developers to create modular, reusable, and maintainable code."
   ]
  },
  {
   "cell_type": "markdown",
   "id": "aa6f24b9",
   "metadata": {},
   "source": [
    "<h4>Encapsulation</h4>\n",
    "\n",
    "Encapsulation is the concept of bundling the data (attributes) and methods (functions) that operate on the data into a `single unit`, called a class. This allows for controlling the access to the data by `restricting access to certain components`, typically through access modifiers. It also provides a mechanism for hiding the internal workings of an object and only exposing the necessary details to the outside world.\n",
    "\n",
    "Encapsulation is primarily about hiding the `internal state of an object` and making it accessible only through well-defined methods (known as `getters` and `setters`). This ensures that the object’s data is protected and only manipulated in controlled ways."
   ]
  },
  {
   "cell_type": "code",
   "execution_count": 12,
   "id": "2a8269ad",
   "metadata": {},
   "outputs": [
    {
     "name": "stdout",
     "output_type": "stream",
     "text": [
      "Your balance is : 800\n",
      "Your balance is : 600\n"
     ]
    }
   ],
   "source": [
    "#An example of Encapsulation\n",
    "\n",
    "class BkashAccount:\n",
    "    \n",
    "    def __init__(self,balance=0):\n",
    "        self.accountBalance=balance\n",
    "    \n",
    "    def addMoney(self,amount):\n",
    "        self.accountBalance+=amount\n",
    "    def cashOut(self,amount):\n",
    "        self.accountBalance-=amount\n",
    "    def checkBalance(self):\n",
    "        print(f\"Your balance is : {self.accountBalance}\")\n",
    "    \n",
    "\n",
    "# User can't directly use the variable accountBalance,it is encapsulated\n",
    "\n",
    "rakibBkashAccount=BkashAccount(500)\n",
    "rakibBkashAccount.addMoney(300)\n",
    "rakibBkashAccount.checkBalance()\n",
    "rakibBkashAccount.cashOut(200)\n",
    "rakibBkashAccount.checkBalance()"
   ]
  },
  {
   "cell_type": "markdown",
   "id": "c7956ba2",
   "metadata": {},
   "source": [
    "<h4>Abstraction</h4>\n",
    "\n",
    "Abstraction is the concept of `exposing only the essential features of an object` while `hiding the implementation details`. The goal is to focus on what an object does, rather than how it does it. Abstraction simplifies complex systems by allowing the user to interact with a simplified interface, without needing to understand the internal workings.\n",
    "\n",
    "In Python, abstraction is often implemented using:\n",
    "\n",
    "**Abstract classes**: Classes that cannot be instantiated directly, but serve as a blueprint for other classes.\n",
    "\n",
    "**Abstract methods**: Methods that are declared in an abstract class, but must be implemented by any subclass.\n",
    "\n",
    "Python’s `abc` (Abstract Base Class) module is used to define abstract classes and methods."
   ]
  },
  {
   "cell_type": "code",
   "execution_count": 13,
   "id": "ecf326e1",
   "metadata": {},
   "outputs": [
    {
     "name": "stdout",
     "output_type": "stream",
     "text": [
      "Printing Hello.pdf document using Laser Printer\n",
      "Printing world.png document using Ink Printer\n"
     ]
    }
   ],
   "source": [
    "from abc import ABC,abstractmethod\n",
    "\n",
    "class Printer(ABC):\n",
    "    @abstractmethod\n",
    "    def print_document(self,document):\n",
    "        pass\n",
    "    \n",
    "class LaserPrinter(Printer):\n",
    "    def print_document(self, document):\n",
    "        print(f\"Printing {document} document using Laser Printer\")\n",
    "\n",
    "class InkPrinter(Printer):\n",
    "    def print_document(self, document):\n",
    "        print(f\"Printing {document} document using Ink Printer\")\n",
    "\n",
    "lp=LaserPrinter()\n",
    "ip=InkPrinter()\n",
    "\n",
    "#We dont have to know how actually Laser printer or ink printer work,we just call\n",
    "#call print_document() that's it\n",
    "lp.print_document(\"Hello.pdf\")\n",
    "ip.print_document(\"world.png\")\n",
    "        "
   ]
  },
  {
   "cell_type": "markdown",
   "id": "4578ecad",
   "metadata": {},
   "source": [
    "<h3>Inheritence</h3>\n",
    "\n",
    "Inheritance is the principle that allows a new class (called a `subclass` or `derived class`) to inherit attributes and methods from an existing class (called a `superclass` or `base class`). This promotes code reuse, as the subclass can reuse the code from the superclass and add or modify functionality as needed.\n",
    "\n",
    "With inheritance, a subclass can:\n",
    "\n",
    "- Inherit all properties and behaviors from the superclass.\n",
    "\n",
    "- Override or extend the functionality of the superclass."
   ]
  },
  {
   "cell_type": "code",
   "execution_count": null,
   "id": "62130d75",
   "metadata": {},
   "outputs": [
    {
     "name": "stdout",
     "output_type": "stream",
     "text": [
      "Bark\n",
      "Meow\n"
     ]
    }
   ],
   "source": [
    "class Animal:\n",
    "    def __init__(self,animal_name):\n",
    "        self.animal_name=animal_name\n",
    "    \n",
    "    def sound(self): \n",
    "        pass \n",
    "\n",
    "class Dog(Animal):\n",
    "    def __init__(self, animal_name):\n",
    "        super().__init__(animal_name)\n",
    "    \n",
    "    def sound(self):\n",
    "        print(\"Bark\")\n",
    "\n",
    "class Cat(Animal):\n",
    "    def __init__(self, animal_name):\n",
    "        super().__init__(animal_name)\n",
    "    \n",
    "    def sound(self):\n",
    "        print(\"Meow\")\n",
    "\n",
    "d1=Dog(\"German Shepard\")\n",
    "c1=Cat(\"Bangladeshi\")\n",
    "\n",
    "d1.sound()\n",
    "c1.sound()\n",
    "        "
   ]
  },
  {
   "cell_type": "markdown",
   "id": "86956928",
   "metadata": {},
   "source": [
    "<h4>super()</h4>\n",
    "\n",
    "The `super()` function in Python is used to call methods from the parent class (or superclass). It allows you to invoke a method from the superclass without explicitly naming it, which is especially useful in multiple inheritance to ensure that the correct method is called.\n",
    "\n",
    "- `super()` is commonly used in the `__init__` method to call the parent class’s constructor when initializing an object of a subclass.\n",
    "\n",
    "- It ensures that the initialization and other methods from parent classes are properly invoked, allowing for proper inheritance and method chaining."
   ]
  },
  {
   "cell_type": "markdown",
   "id": "207d0447",
   "metadata": {},
   "source": [
    "<h4>Types of Inheritences</h4>\n",
    "\n",
    "**Single Inheritance**: A child class inherits from a single parent class.\n",
    "\n",
    "**Multiple Inheritance**: A child class inherits from more than one parent class.\n",
    "\n",
    "**Multilevel Inheritance**: A child class inherits from a parent class, which in turn inherits from another class.\n",
    "\n",
    "**Hierarchical Inheritance**: Multiple child classes inherit from a single parent class.\n",
    "\n",
    "**Hybrid Inheritance**: A combination of two or more types of inheritance.\n",
    "\n",
    "Below is code example : "
   ]
  },
  {
   "cell_type": "code",
   "execution_count": 31,
   "id": "4eebefaa",
   "metadata": {},
   "outputs": [
    {
     "name": "stdout",
     "output_type": "stream",
     "text": [
      "Brand : Toyota and Model : Corolla\n",
      "--------------------------------------------------\n",
      "Brand : Honda and Model : Civic\n",
      "Fuel Type : Petrol\n",
      "--------------------------------------------------\n",
      "Brand : Tesla and Model : Model 3\n",
      "Fuel Type : Electric\n",
      "Fuel Type : Electric\n",
      "--------------------------------------------------\n",
      "The Aqua Aero can fly : True\n",
      "Brand : Aqua and Model : Aero\n",
      "Fuel Type : Hybrid\n"
     ]
    }
   ],
   "source": [
    "class Vehicle:\n",
    "    def __init__(self,brand,model):\n",
    "        self.brand=brand\n",
    "        self.model=model\n",
    "    \n",
    "    def display_info(self):\n",
    "        print(f\"Brand : {self.brand} and Model : {self.model}\")\n",
    "\n",
    "#Single Inheritence\n",
    "class Car(Vehicle):\n",
    "    def __init__(self, brand, model,fuel_type):\n",
    "        super().__init__(brand, model)\n",
    "        self.fuel_type=fuel_type\n",
    "    \n",
    "    def display_info(self):\n",
    "        super().display_info()\n",
    "        print(f\"Fuel Type : {self.fuel_type}\")\n",
    "        \n",
    "#Multilevel Inheritence      \n",
    "class ElectricCar(Car):\n",
    "    def __init__(self, brand, model,fuel_type,battery_capacity):\n",
    "        super().__init__(brand, model,fuel_type)\n",
    "        self.battery_capacity=battery_capacity\n",
    "    \n",
    "    def display_info(self):\n",
    "        super().display_info()\n",
    "        print(f\"Fuel Type : {self.fuel_type}\")\n",
    "        \n",
    "class flyingVehicle:\n",
    "    def fly(self):\n",
    "        print(\"The vehicle is flying\")\n",
    "        \n",
    "# Multiple inheritence \n",
    "class flyingCar(Car,flyingVehicle):\n",
    "    def __init__(self, brand, model, fuel_type, flying_ability):\n",
    "        super().__init__(brand, model, fuel_type)\n",
    "        self.flying_ability = flying_ability\n",
    "    \n",
    "    def display_info(self):\n",
    "        print(f\"The {self.brand} {self.model} can fly : {self.flying_ability}\")\n",
    "        super().display_info()\n",
    "\n",
    "# Example Usage\n",
    "vehicle = Vehicle(\"Toyota\", \"Corolla\")\n",
    "vehicle.display_info()\n",
    "print('-'*50)\n",
    "\n",
    "car = Car(\"Honda\", \"Civic\", \"Petrol\")\n",
    "car.display_info()\n",
    "print('-'*50)\n",
    "\n",
    "electric_car = ElectricCar(\"Tesla\", \"Model 3\", \"Electric\", 75)\n",
    "electric_car.display_info()\n",
    "print('-'*50)\n",
    "\n",
    "flying_car = flyingCar(\"Aqua\", \"Aero\", \"Hybrid\", True)\n",
    "flying_car.display_info()"
   ]
  },
  {
   "cell_type": "markdown",
   "id": "27519191",
   "metadata": {},
   "source": [
    "<h3>Method Resolution Order</h3>\n",
    "\n",
    "Method Resolution Order (MRO) is a rule that Python follows to determine the order in which methods are inherited from classes in the inheritance hierarchy. This is particularly important when a class inherits from multiple classes (multiple inheritance), as Python needs to know which method to call first when a method is called on an instance of the class.\n",
    "\n",
    "The MRO follows the `C3 linearization algorithm` in Python. It ensures that the method resolution order respects the inheritance hierarchy in a consistent way, avoiding ambiguity in multiple inheritance scenarios.\n",
    "\n",
    "We can view the `MRO` for a class by using the `.mro()` method"
   ]
  },
  {
   "cell_type": "code",
   "execution_count": 5,
   "id": "d05719c4",
   "metadata": {},
   "outputs": [
    {
     "name": "stdout",
     "output_type": "stream",
     "text": [
      "[<class '__main__.D'>, <class '__main__.C'>, <class '__main__.B'>, <class '__main__.A'>, <class 'object'>]\n",
      "bye\n"
     ]
    }
   ],
   "source": [
    "class A:\n",
    "    def print_info(self):\n",
    "        print(\"Hello\")\n",
    "\n",
    "class B(A):\n",
    "    def print_info(self):\n",
    "        print(\"world\")\n",
    "\n",
    "class C(A):\n",
    "    def print_info(self):\n",
    "        print(\"bye\")\n",
    "\n",
    "class D(C,B):\n",
    "    pass\n",
    "\n",
    "#This is for checking the method resolution order\n",
    "print(D.mro())\n",
    "\n",
    "d=D()\n",
    "d.print_info()\n"
   ]
  },
  {
   "cell_type": "markdown",
   "id": "efae1cae",
   "metadata": {},
   "source": [
    "<h3>Polymorphism</h3>\n",
    "\n",
    "Polymorphism is the ability of different classes to be treated as instances of the same class through inheritance. It allows methods to be used interchangeably in different objects, even if the objects are of different types. Polymorphism can be achieved in two ways:"
   ]
  },
  {
   "cell_type": "code",
   "execution_count": null,
   "id": "ea165c5e",
   "metadata": {},
   "outputs": [
    {
     "name": "stdout",
     "output_type": "stream",
     "text": [
      "Area: 78.5\n",
      "Area: 16\n"
     ]
    }
   ],
   "source": [
    "class Shape:\n",
    "    def area(self):\n",
    "        pass\n",
    "\n",
    "class Circle(Shape):\n",
    "    def __init__(self, radius):\n",
    "        self.radius = radius\n",
    "\n",
    "    def area(self):\n",
    "        return 3.14 * self.radius * self.radius\n",
    "\n",
    "class Square(Shape):\n",
    "    def __init__(self, side):\n",
    "        self.side = side\n",
    "\n",
    "    def area(self):\n",
    "        return self.side * self.side\n",
    "\n",
    "# Creating objects of the subclasses\n",
    "circle = Circle(5)\n",
    "square = Square(4)\n",
    "\n",
    "shapes = [circle, square]\n",
    "\n",
    "for shape in shapes:\n",
    "    print(f\"Area: {shape.area()}\") \n"
   ]
  },
  {
   "cell_type": "markdown",
   "id": "b34d2407",
   "metadata": {},
   "source": [
    "<h3>Method Overriding (Runtime Polymorphism)</h3>\n",
    "\n",
    "**Runtime polymorphism** (also known as `method overriding`) occurs when a method in a child class overrides a method in the parent class. The method that is called is determined at runtime, based on the object type, not the reference type. This allows subclasses to provide specific behavior while retaining the same method signature.\n",
    "\n",
    "In Python, method overriding happens when a subclass defines a method with the same name and signature as a method in the parent class. When you call that method on an object, Python will use the method from the subclass, even if the `reference type` is of the parent class."
   ]
  },
  {
   "cell_type": "code",
   "execution_count": 6,
   "id": "5222cde8",
   "metadata": {},
   "outputs": [
    {
     "name": "stdout",
     "output_type": "stream",
     "text": [
      "Animal makes a sound\n",
      "Dog barks\n",
      "Cat meows\n",
      "Dog barks\n",
      "Cat meows\n"
     ]
    }
   ],
   "source": [
    "class Animal:\n",
    "    def speak(self):\n",
    "        print(\"Animal makes a sound\")\n",
    "\n",
    "class Dog(Animal):\n",
    "    def speak(self):  # Method overriding\n",
    "        print(\"Dog barks\")\n",
    "\n",
    "class Cat(Animal):\n",
    "    def speak(self):  # Method overriding\n",
    "        print(\"Cat meows\")\n",
    "\n",
    "# Using parent class reference to hold child class objects\n",
    "animal_ref = Animal()\n",
    "dog_ref = Dog()\n",
    "cat_ref = Cat()\n",
    "\n",
    "# Calling speak method on references of type Animal\n",
    "animal_ref.speak()  # Output: Animal makes a sound\n",
    "dog_ref.speak()     # Output: Dog barks\n",
    "cat_ref.speak()     # Output: Cat meows\n",
    "\n",
    "# Even though the reference type is Animal, the actual object type determines the method that is called\n",
    "animal_ref = dog_ref\n",
    "animal_ref.speak()  # Output: Dog barks (Method from Dog class is called)\n",
    "\n",
    "animal_ref = cat_ref\n",
    "animal_ref.speak()  # Output: Cat meows (Method from Cat class is called)\n"
   ]
  },
  {
   "cell_type": "markdown",
   "id": "3ac60d0d",
   "metadata": {},
   "source": [
    "<h3>Using *args for Variable-Length Arguments (Mimicking Method Overloading)</h3>\n",
    "\n",
    "`*args` in Python allows us to mimic method overloading by accepting a variable number of positional arguments in a single method. Since Python does not support traditional method overloading (like other languages such as Java or C++), `*args` provides flexibility by enabling the method to handle different numbers of arguments dynamically."
   ]
  },
  {
   "cell_type": "code",
   "execution_count": 8,
   "id": "05db722c",
   "metadata": {},
   "outputs": [
    {
     "name": "stdout",
     "output_type": "stream",
     "text": [
      "5\n",
      "10\n",
      "20\n"
     ]
    }
   ],
   "source": [
    "class calculator:\n",
    "    def add(self,*args):\n",
    "        return sum(args)\n",
    "\n",
    "cal=calculator()\n",
    "\n",
    "print(cal.add(2,3))\n",
    "print(cal.add(2,3,5))\n",
    "print(cal.add(2,3,5,10))"
   ]
  },
  {
   "cell_type": "markdown",
   "id": "702ca33e",
   "metadata": {},
   "source": [
    "<h3>Operator Overloading</h3>\n",
    "\n",
    "Operator overloading in Python allows us to define custom behavior for operators (like +, -, *, etc.) when applied to objects of user-defined classes. By implementing special methods (also called `magic` or `dunder` methods, e.g.,` __add__`, `__sub__`), we can specify how operators should work with your class instances.\n",
    "\n",
    "Commonly Overloaded Operators in Python:\n",
    "\n",
    "| **Operator** | **Magic Method**    | **Description**                      |\n",
    "|--------------|---------------------|--------------------------------------|\n",
    "| `+`          | `__add__`           | Addition of two objects              |\n",
    "| `-`          | `__sub__`           | Subtraction of two objects           |\n",
    "| `*`          | `__mul__`           | Multiplication of two objects        |\n",
    "| `/`          | `__truediv__`       | Division of two objects              |\n",
    "| `//`         | `__floordiv__`      | Floor division of two objects        |\n",
    "| `==`         | `__eq__`            | Equality check                       |\n",
    "| `!=`         | `__ne__`            | Inequality check                     |\n",
    "| `<`          | `__lt__`            | Less than comparison                 |\n",
    "| `>`          | `__gt__`            | Greater than comparison              |\n"
   ]
  },
  {
   "cell_type": "code",
   "execution_count": 11,
   "id": "9f420efd",
   "metadata": {},
   "outputs": [
    {
     "name": "stdout",
     "output_type": "stream",
     "text": [
      "(3, 8)\n",
      "(2, 15)\n"
     ]
    }
   ],
   "source": [
    "class Point:\n",
    "    def __init__(self,x,y):\n",
    "        self.x=x\n",
    "        self.y=y\n",
    "        \n",
    "    def __add__(self,other):\n",
    "        return Point(self.x+other.x,self.y+other.y)\n",
    "\n",
    "    def __mul__(self,other):\n",
    "        return Point(self.x*other.x,self.y*other.y)\n",
    "\n",
    "    def __repr__(self):\n",
    "        return f\"({self.x}, {self.y})\"\n",
    "    \n",
    "\n",
    "a=Point(2,3)\n",
    "b=Point(1,5)\n",
    "\n",
    "c=a+b\n",
    "print(c)\n",
    "\n",
    "d=b*a\n",
    "print(d)\n",
    "    \n",
    "        "
   ]
  },
  {
   "cell_type": "markdown",
   "id": "01336b40",
   "metadata": {},
   "source": [
    "<h3>Summary of the four principles</h3>\n",
    "\n",
    "| **Principle**    | **Description**                                                                                               | **Key Features**                                                                                                  |\n",
    "|------------------|---------------------------------------------------------------------------------------------------------------|-------------------------------------------------------------------------------------------------------------------|\n",
    "| **Encapsulation** | Hides internal state and restricts access to it, exposing only necessary functionality.                      | - Protects data<br>- Uses getter/setter methods<br>- Data is private and accessed via public methods               |\n",
    "| **Abstraction**   | Hides complexity and shows only essential features. Focuses on **what** an object does, not **how**.           | - Simplifies interaction<br>- Provides a clear interface<br>- Achieved with abstract classes/methods                |\n",
    "| **Inheritance**   | Allows one class to inherit the properties and methods of another, promoting code reuse.                     | - Code reuse<br>- Subclass extends or overrides base class behavior<br>- Creates class hierarchies                 |\n",
    "| **Polymorphism**  | Allows objects of different classes to be treated as instances of the same class, enabling method behavior variation. | - Methods behave differently based on object type<br>- Achieved with method overriding<br>- Increases flexibility   |\n",
    "\n"
   ]
  },
  {
   "cell_type": "markdown",
   "id": "1d901cfa",
   "metadata": {},
   "source": [
    "<h3>Types of Methods in Python Classes</h3>\n",
    "\n",
    "<h4>Instance Method</h4>\n",
    "\n",
    "Instance methods are the most common type of methods. They operate on an instance of the class and can access or modify the instance's attributes.\n",
    "\n",
    "Instance methods always take the first parameter as `self`, which refers to the instance of the class."
   ]
  },
  {
   "cell_type": "code",
   "execution_count": 16,
   "id": "cb28364a",
   "metadata": {},
   "outputs": [
    {
     "name": "stdout",
     "output_type": "stream",
     "text": [
      "Dog name : tommy and age : 4\n"
     ]
    }
   ],
   "source": [
    "class Dog:\n",
    "    def __init__(self,name,age):\n",
    "        self.name=name\n",
    "        self.age=age\n",
    "    \n",
    "    def print_info(self):\n",
    "        print(f\"Dog name : {self.name} and age : {self.age}\")\n",
    "\n",
    "d1=Dog(\"tommy\",4)\n",
    "\n",
    "d1.print_info()"
   ]
  },
  {
   "cell_type": "markdown",
   "id": "9a3ebe82",
   "metadata": {},
   "source": [
    "<h4>Static Method</h4>\n",
    "\n",
    "A **static** method in Python is a method that does not operate on an instance or class directly. It is used when you need to perform **a function that is related to the class** but doesn't need to access or modify the class or instance attributes. Static methods are defined using the `@staticmethod` decorator."
   ]
  },
  {
   "cell_type": "code",
   "execution_count": null,
   "id": "f8793061",
   "metadata": {},
   "outputs": [
    {
     "name": "stdout",
     "output_type": "stream",
     "text": [
      "25 degree celsius in farenhite is 77.0\n"
     ]
    }
   ],
   "source": [
    "class Temperature:\n",
    "    @staticmethod\n",
    "    def celsius_to_farenhite(celsius):\n",
    "        return (celsius * 9/5) + 32 \n",
    "    \n",
    "farenhite_temp = Temperature.celsius_to_farenhite(25)\n",
    "print(f\"25 degree celsius in farenhite is {farenhite_temp}\")"
   ]
  },
  {
   "cell_type": "markdown",
   "id": "30b8b75f",
   "metadata": {},
   "source": [
    "<b>Code Explaination</b>\n",
    "\n",
    "*Static Method (celsius_to_fahrenheit)*: This method doesn't require any instance data or class data. It performs a simple calculation based on the argument celsius.\n",
    "\n",
    "*Usage*: We call the static method directly using the class `Temperature.celsius_to_fahrenheit(25))` without needing to create an instance."
   ]
  },
  {
   "cell_type": "markdown",
   "id": "fb424341",
   "metadata": {},
   "source": [
    "<h4>Class Method</h4>\n",
    "\n",
    "A class method in Python is a method that is bound to the class and not the instance of the class. Class methods are used when you need to operate on class-level data (class variables) rather than instance-level data. Class methods take `cls` as their first parameter, which refers to the class itself.\n",
    "\n",
    "Class methods are defined using the `@classmethod` decorator."
   ]
  },
  {
   "cell_type": "code",
   "execution_count": null,
   "id": "6518cd46",
   "metadata": {},
   "outputs": [
    {
     "name": "stdout",
     "output_type": "stream",
     "text": [
      "2\n"
     ]
    }
   ],
   "source": [
    "class CloudlyEmployee:\n",
    "    employee_count=0    \n",
    "    \n",
    "    def __init__(self,idNum):   \n",
    "        self.id=idNum   \n",
    "        CloudlyEmployee.increament_employee()   \n",
    "        \n",
    "    \n",
    "    @classmethod\n",
    "    def increament_employee(cls):   \n",
    "        cls.employee_count+=1   \n",
    "        \n",
    "    @classmethod\n",
    "    def get_employee_count(cls): \n",
    "        return cls.employee_count \n",
    "\n",
    "\n",
    "rakib=CloudlyEmployee(\"446\") \n",
    "imtiaz=CloudlyEmployee(\"889\") \n",
    "\n",
    "print(CloudlyEmployee.get_employee_count())  \n",
    "        "
   ]
  },
  {
   "cell_type": "markdown",
   "id": "e7b81fdd",
   "metadata": {},
   "source": [
    "<h3>Decorators in Python</h3>\n",
    "\n",
    "Decorators in Python are a way to modify or enhance the functionality of a function or method without changing its source code. They allow us to wrap another function to extend its behavior.\n",
    "\n",
    "<h4>Types of Decorators</h4>\n",
    "\n",
    "- *Function Decorators*: The most common type, used to modify or extend the behavior of a function.\n",
    "- *Class Method Decorators*: Used to decorate methods inside classes. Example: `@staticmethod`, `@classmethod`.\n",
    "- *Property Decorators*: Used to define getter, setter, or deleter for a class attribute."
   ]
  },
  {
   "cell_type": "code",
   "execution_count": 19,
   "id": "472bba6f",
   "metadata": {},
   "outputs": [
    {
     "name": "stdout",
     "output_type": "stream",
     "text": [
      "HELLO\n"
     ]
    }
   ],
   "source": [
    "#Function Decorator\n",
    "\n",
    "def uppercase_decorator(func):\n",
    "    def wrapper():\n",
    "        result = func()\n",
    "        return result.upper()\n",
    "    return wrapper\n",
    "\n",
    "@uppercase_decorator\n",
    "def greet():\n",
    "    return \"hello\"\n",
    "\n",
    "print(greet()) \n"
   ]
  },
  {
   "cell_type": "code",
   "execution_count": 20,
   "id": "f880daaf",
   "metadata": {},
   "outputs": [
    {
     "name": "stdout",
     "output_type": "stream",
     "text": [
      "This is a static method\n"
     ]
    }
   ],
   "source": [
    "class MyClass:\n",
    "    @staticmethod\n",
    "    def static_method():\n",
    "        print(\"This is a static method\")\n",
    "\n",
    "MyClass.static_method()\n"
   ]
  },
  {
   "cell_type": "code",
   "execution_count": null,
   "id": "e6c4d897",
   "metadata": {},
   "outputs": [
    {
     "name": "stdout",
     "output_type": "stream",
     "text": [
      "15\n",
      "10\n"
     ]
    }
   ],
   "source": [
    "class Circle:\n",
    "    def __init__(self, radius):\n",
    "        self._radius = radius\n",
    "\n",
    "    #Redius -> Redu\n",
    "    \n",
    "    @property\n",
    "    def redu(self): # - > getter name\n",
    "        return self._radius\n",
    "    \n",
    "    #Setter (Syntax : @getter_name.setter)\n",
    "    @redu.setter\n",
    "    def redu(self, value):\n",
    "        if value > 0:\n",
    "            self._radius = value\n",
    "        else:\n",
    "            print(\"Radius must be positive!\")\n",
    "\n",
    "circle = Circle(15)\n",
    "print(circle.redu)  \n",
    "circle.redu = 10  #using the setter \n",
    "print(circle.redu) #using the getter"
   ]
  },
  {
   "cell_type": "markdown",
   "id": "9c974e99",
   "metadata": {},
   "source": [
    "<h3>Summary of OOP Concepts</h3>\n",
    "\n",
    "\n",
    "| **Concept**            | **Description**                                                                                                                                                  | **Key Features**                                                                                                                                                                                                                                        | **Code Example**                                                                                                                                                       |\n",
    "|------------------------|------------------------------------------------------------------------------------------------------------------------------------------------------------------|-------------------------------------------------------------------------------------------------------------------------------------------------------------------------------------------------------------------------------------------------------|---------------------------------------------------------------------------------------------------------------------------------------------------------------------|\n",
    "| **Object-Oriented Programming (OOP)** | A programming paradigm that organizes code into objects and classes to improve modularity, reusability, and maintainability.                                  | - Organizes code around data (objects) rather than functions<br>- Supports code reusability, scalability, and easier maintenance                                                                                                                       | `class Car:`<br> `def __init__(self, brand, model):`<br> `self.brand = brand`<br> `self.model = model`                                                                                             |\n",
    "| **Class**              | A blueprint or template for creating objects that defines their attributes (data) and behaviors (methods).                                                          | - Defines attributes and methods for objects<br>- Used to create objects (instances)                                                                                                                                                                   | `class Car:`<br> `def __init__(self, brand, model):`<br> `self.brand = brand`<br> `self.model = model`                                                                                             |\n",
    "| **Object**             | An instance of a class, containing actual values for attributes and the ability to call methods.                                                                  | - Contains real data for attributes<br>- Can invoke methods defined in the class                                                                                                                                                                        | `my_car = Car(\"Toyota\", \"Allion\")`                                                                                                                                  |\n",
    "| **Constructor**        | A special method (`__init__`) in a class that initializes object attributes when an object is created.                                                               | - Initializes attributes of an object<br>- Automatically called when an object is created                                                                                                                                                               | `class Car:`<br> `def __init__(self, brand, model):`<br> `self.brand = brand`<br> `self.model = model`                                                                                             |\n",
    "| **Encapsulation**      | The concept of bundling data and methods that operate on the data into a single unit (class) and restricting access to some of the object’s components.              | - Protects internal state<br>- Uses getters and setters to control access<br>- Data is hidden and only accessed through methods                                                                                                                       | `class BkashAccount:`<br> `def __init__(self,balance=0):`<br> `self.accountBalance=balance`<br> `def checkBalance(self):`<br> `print(self.accountBalance)`                |\n",
    "| **Abstraction**        | Exposes only the essential features of an object, hiding the complex implementation details.                                                                        | - Focuses on \"what\" an object does rather than \"how\" it does it<br>- Simplifies interactions and hides complexity                                                                                                                                         | `class Printer(ABC):`<br> `@abstractmethod`<br> `def print_document(self, document): pass`<br> `class LaserPrinter(Printer):`<br> `def print_document(self, document):` |\n",
    "| **Inheritance**        | A mechanism by which one class (child class) inherits attributes and methods from another class (parent class), enabling code reuse.                                | - Promotes code reuse<br>- A subclass can inherit methods and attributes from a superclass<br>- Can override methods                                                                                                                                  | `class Animal:`<br> `class Dog(Animal):`<br> `def sound(self):`<br> `print(\"Bark\")`                                                                                                                                       |\n",
    "| **Polymorphism**       | The ability of different classes to be treated as instances of the same class through inheritance, allowing different methods to be called based on object type.       | - Allows different objects to use the same method name, but each having a different implementation<br>- Achieved through method overriding and interfaces                                                                                               | `class Shape:`<br> `class Circle(Shape):`<br> `def area(self): return 3.14 * self.radius * self.radius`<br> `circle = Circle(5)`                                                                 |\n",
    "| **Method Overriding**  | When a subclass defines a method with the same signature as a method in the parent class, allowing the subclass to provide specific behavior at runtime.               | - The method from the child class is called even if the reference is of the parent class<br>- Allows the subclass to implement specific behavior                                                                                                      | `class Dog(Animal):`<br> `def speak(self):`<br> `print(\"Bark\")`                                                                                                                                                     |\n",
    "| **Method Resolution Order (MRO)** | The order in which methods are inherited in case of multiple inheritance. Python uses the C3 linearization algorithm to determine the method resolution order.       | - Important in multiple inheritance<br>- Can be checked using `.mro()`<br>- Ensures that methods are called in the correct order                                                                                                                     | `print(D.mro())`<br> `d = D()`<br> `d.print_info()`                                                                                                                                 |\n",
    "| **Using args**        | A way to pass a variable number of arguments to a method, simulating method overloading in Python.                                                                  | - Allows dynamic number of arguments<br>- Mimics method overloading                                                                                              | `def add(self, *args):`<br> `return sum(args)`<br> `print(cal.add(2,3,5,10))`                                                                                                 |\n",
    "| **Operator Overloading**| Allows custom behavior for operators (like +, -, *, etc.) when used with objects of user-defined classes.                                                           | - Defines how operators should behave for objects of a class<br>- Custom behavior for operators using magic methods (e.g., `__add__`, `__sub__`)                                                                                                 | `class Point:`<br> `def __add__(self, other):`<br> `return Point(self.x + other.x, self.y + other.y)`                                                                                                   |\n",
    "| **Static Method**      | A method that doesn't rely on class or instance data. It is related to the class but doesn't operate on instances or class attributes.                             | - Defined using `@staticmethod`<br>- Can be called on the class itself without creating an object                                                                                                         | `class Temperature:`<br> `@staticmethod`<br> `def celsius_to_farenhite(celsius):`<br> `return (celsius * 9/5) + 32`                                                                 |\n",
    "| **Class Method**       | A method bound to the class, not the instance. It operates on class-level data and is defined using `@classmethod`.                                                  | - Defined using `@classmethod`<br>- Operates on class-level attributes<br>- First parameter is `cls`, referring to the class itself                                                                 | `class CloudlyEmployee:`<br> `@classmethod`<br> `def increament_employee(cls):`<br> `cls.employee_count+=1`                                                                             |\n",
    "| **Decorators**         | A way to modify or extend the functionality of a function or method without changing its source code.                                                              | - Function, class method, and property decorators<br>- Used to enhance or modify behavior                                                                                                              | `def uppercase_decorator(func):`<br> `def wrapper():`<br> `result = func()`<br> `return result.upper()`<br> `@uppercase_decorator`                                                                                 |\n",
    "\n"
   ]
  }
 ],
 "metadata": {
  "kernelspec": {
   "display_name": "base",
   "language": "python",
   "name": "python3"
  },
  "language_info": {
   "codemirror_mode": {
    "name": "ipython",
    "version": 3
   },
   "file_extension": ".py",
   "mimetype": "text/x-python",
   "name": "python",
   "nbconvert_exporter": "python",
   "pygments_lexer": "ipython3",
   "version": "3.12.4"
  }
 },
 "nbformat": 4,
 "nbformat_minor": 5
}
