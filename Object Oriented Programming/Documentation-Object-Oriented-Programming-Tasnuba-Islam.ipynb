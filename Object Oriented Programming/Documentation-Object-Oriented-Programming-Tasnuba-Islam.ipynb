{
 "cells": [
  {
   "cell_type": "markdown",
   "id": "01499569-8b37-4485-88ef-60e1b10c2df8",
   "metadata": {},
   "source": [
    "# Object Oriented Programming (OOP)"
   ]
  },
  {
   "cell_type": "markdown",
   "id": "b6c8f29a-dbdf-44e9-91f4-bc25ace2302e",
   "metadata": {},
   "source": [
    "**Object-Oriented-Programming (OOP)** is a programming paradigm centered around the concept of **\"objects\"**, where the main goal is to bind together the data and the functions that operate on them so that no other part of the code can access this data except that function.\n",
    "\n",
    "The key concepts of OOP are discussed below in the light of **Python**:"
   ]
  },
  {
   "cell_type": "markdown",
   "id": "68333f8e-9296-4c68-a3af-56a9d0a760bb",
   "metadata": {},
   "source": [
    "# Methods"
   ]
  },
  {
   "cell_type": "markdown",
   "id": "45befff0-c7ce-4fa7-99b8-98987ab69cc0",
   "metadata": {},
   "source": [
    "## Types of Methods in Python:\r\n",
    "\r\n",
    "### 🔹 Instance Method\r\n",
    "- The most common type.\r\n",
    "- Takes `self` as the first argument.\r\n",
    "- Can access and modify instance attributes.\r\n",
    "\r\n",
    "### 🔹 Class Method\r\n",
    "- Takes `cls` as the first argument.\r\n",
    "- Defined using the `@classmethod` decorator.\r\n",
    "- Can access or modify class-level attributes.\r\n",
    "\r\n",
    "### 🔹 Static Method\r\n",
    "- Does **not** take `self` or `cls`.\r\n",
    "- Defined using the `@staticmethod` decorator.\r\n",
    "- Utility function inside a class that doesn’t access instanceg static method\r\n",
    "print(Demo.add(5, 3))  # Output: 8\r\n"
   ]
  },
  {
   "cell_type": "code",
   "execution_count": 10,
   "id": "55e7d5be-1edf-461a-b915-3e0a2507f5d2",
   "metadata": {},
   "outputs": [
    {
     "name": "stdout",
     "output_type": "stream",
     "text": [
      "Hello, Alice!\n",
      "Class attribute: I am a class attribute\n",
      "8\n"
     ]
    }
   ],
   "source": [
    "class Demo:\n",
    "    class_attr = \"I am a class attribute\"\n",
    "\n",
    "    def __init__(self, name):\n",
    "        self.name = name  # Instance attribute\n",
    "\n",
    "    # Instance method\n",
    "    def greet(self):\n",
    "        print(f\"Hello, {self.name}!\")\n",
    "\n",
    "    # Class method\n",
    "    @classmethod\n",
    "    def show_class_attr(cls):\n",
    "        print(f\"Class attribute: {cls.class_attr}\")\n",
    "\n",
    "    # Static method\n",
    "    @staticmethod\n",
    "    def add(x, y):\n",
    "        return x + y\n",
    "\n",
    "# Creating an object\n",
    "obj = Demo(\"Alice\")\n",
    "\n",
    "# Calling instance method\n",
    "obj.greet()  # Output: Hello, Alice!\n",
    "\n",
    "# Calling class method\n",
    "Demo.show_class_attr()  # Output: Class attribute: I am a class attribute\n",
    "\n",
    "# Calling static method\n",
    "print(Demo.add(5, 3))  # Output: 8"
   ]
  },
  {
   "cell_type": "markdown",
   "id": "535bdf76-425c-4de2-b2f9-0fa0550428af",
   "metadata": {},
   "source": [
    "# Getter and Setter Method"
   ]
  },
  {
   "cell_type": "markdown",
   "id": "f7c851a2-a84c-46e2-af9c-31a30953d329",
   "metadata": {},
   "source": [
    "**Definition:** Methods that control access (getters) and modification (setters) of object attributes.\n",
    "\n",
    "## Getters:\n",
    "- Return attribute values\n",
    "- May format/compute data\n",
    "\n",
    "## Setters:\n",
    "- Update attributes with validation\n",
    "- Often return `self` for chaining"
   ]
  },
  {
   "cell_type": "code",
   "execution_count": 15,
   "id": "927862bd-336d-45a0-88f6-682dcfe8a957",
   "metadata": {},
   "outputs": [
    {
     "name": "stdout",
     "output_type": "stream",
     "text": [
      "Account: XXXX-XXXX-7890\n",
      "Balance: $1000\n",
      "Active: True\n",
      "New Balance: $2000\n",
      "Final Balance: $2300\n",
      "Error: Balance cannot be negative\n",
      "Error: 'BankAccount' object has no attribute '__balance'\n",
      "Direct access (discouraged): 2300\n"
     ]
    }
   ],
   "source": [
    "class BankAccount:\n",
    "    def __init__(self, account_number, balance=0):\n",
    "        # Private attributes (denoted by double underscore)\n",
    "        self.__account_number = account_number\n",
    "        self.__balance = balance\n",
    "        self.__is_active = True\n",
    "    \n",
    "    # Getter for account number\n",
    "    def get_account_number(self):\n",
    "        # Return only last 4 digits for security\n",
    "        masked = \"XXXX-XXXX-\" + str(self.__account_number)[-4:]\n",
    "        return masked\n",
    "    \n",
    "    # Getter for balance\n",
    "    def get_balance(self):\n",
    "        return self.__balance\n",
    "    \n",
    "    # Setter for balance with validation\n",
    "    def set_balance(self, amount):\n",
    "        if not isinstance(amount, (int, float)):\n",
    "            raise TypeError(\"Balance must be a number\")\n",
    "        \n",
    "        if amount < 0:\n",
    "            raise ValueError(\"Balance cannot be negative\")\n",
    "            \n",
    "        self.__balance = amount\n",
    "        return self  # For method chaining\n",
    "    \n",
    "    # Getter for account status\n",
    "    def is_active(self):\n",
    "        return self.__is_active\n",
    "    \n",
    "    # Setter for account status\n",
    "    def set_active(self, status):\n",
    "        if not isinstance(status, bool):\n",
    "            raise TypeError(\"Status must be boolean\")\n",
    "            \n",
    "        self.__is_active = status\n",
    "        return self\n",
    "    \n",
    "    # Method that uses the private attributes\n",
    "    def deposit(self, amount):\n",
    "        if not self.__is_active:\n",
    "            raise ValueError(\"Cannot deposit to inactive account\")\n",
    "            \n",
    "        if amount <= 0:\n",
    "            raise ValueError(\"Deposit amount must be positive\")\n",
    "            \n",
    "        self.__balance += amount\n",
    "        return self\n",
    "    \n",
    "    def withdraw(self, amount):\n",
    "        if not self.__is_active:\n",
    "            raise ValueError(\"Cannot withdraw from inactive account\")\n",
    "            \n",
    "        if amount <= 0:\n",
    "            raise ValueError(\"Withdrawal amount must be positive\")\n",
    "            \n",
    "        if amount > self.__balance:\n",
    "            raise ValueError(\"Insufficient funds\")\n",
    "            \n",
    "        self.__balance -= amount\n",
    "        return self\n",
    "\n",
    "\n",
    "# Example usage\n",
    "account = BankAccount(1234567890, 1000)\n",
    "\n",
    "# Using getters\n",
    "print(f\"Account: {account.get_account_number()}\")\n",
    "print(f\"Balance: ${account.get_balance()}\")\n",
    "print(f\"Active: {account.is_active()}\")\n",
    "\n",
    "# Using setters with method chaining\n",
    "account.set_balance(2000).set_active(True)\n",
    "print(f\"New Balance: ${account.get_balance()}\")\n",
    "\n",
    "# Using other methods that interact with private attributes\n",
    "account.deposit(500).withdraw(200)\n",
    "print(f\"Final Balance: ${account.get_balance()}\")\n",
    "\n",
    "# Attempting invalid operations\n",
    "try:\n",
    "    account.set_balance(-100)  # Will raise ValueError\n",
    "except ValueError as e:\n",
    "    print(f\"Error: {e}\")\n",
    "\n",
    "# Attempting to access private attribute directly\n",
    "try:\n",
    "    print(account.__balance)  # Will raise AttributeError\n",
    "except AttributeError as e:\n",
    "    print(f\"Error: {e}\")\n",
    "\n",
    "# Name mangling allows access, but this is discouraged\n",
    "print(f\"Direct access (discouraged): {account._BankAccount__balance}\")"
   ]
  },
  {
   "cell_type": "markdown",
   "id": "92019096-2722-4615-a4a9-726a14a4f2e4",
   "metadata": {},
   "source": [
    "# The _init_() Function"
   ]
  },
  {
   "cell_type": "markdown",
   "id": "74b29283-c6f5-4422-b9c5-11f62b702d4b",
   "metadata": {},
   "source": [
    "All classes have a function called __init__(), which is always executed when the class is being initiated.\n",
    "\n",
    "Use the __init__() function to assign values to object properties, or other operations that are necessary to do when the object is being created:"
   ]
  },
  {
   "cell_type": "code",
   "execution_count": 5,
   "id": "07956cc7-01b2-4d97-b56d-e9a7446c23a5",
   "metadata": {},
   "outputs": [
    {
     "name": "stdout",
     "output_type": "stream",
     "text": [
      "John\n",
      "36\n"
     ]
    }
   ],
   "source": [
    "class Person:\n",
    "  def __init__(self, name, age):\n",
    "    self.name = name\n",
    "    self.age = age\n",
    "\n",
    "p1 = Person(\"John\", 36)\n",
    "\n",
    "print(p1.name)\n",
    "print(p1.age)"
   ]
  },
  {
   "cell_type": "markdown",
   "id": "dc3a9001-643a-4ee0-9265-b318efe3da41",
   "metadata": {},
   "source": [
    "# Constructor"
   ]
  },
  {
   "cell_type": "markdown",
   "id": "5141f04f-0507-46ec-886f-5abc5ecd0581",
   "metadata": {},
   "source": [
    "A constructor in Python is a special method used to initialize objects. It's defined using the __init__() method inside a class.\n",
    "\n",
    "## Types of Constructors:\r\n",
    "\r\n",
    "### 🔹 Default Constructor\r\n",
    "- Takes only `self` as a parameter.  \r\n",
    "- Used when no initial values are needed during object creation.\r\n",
    "\r\n",
    "### 🔹 Parameterized Constructor\r\n",
    "- Takes additional arguments besides `self`.  \r\n",
    "- Used to pass and set values during object ceation.\r\n",
    "eation.\r\n"
   ]
  },
  {
   "cell_type": "code",
   "execution_count": 14,
   "id": "c4193e5f-6c8f-45d5-b46e-17dddd96102b",
   "metadata": {},
   "outputs": [
    {
     "name": "stdout",
     "output_type": "stream",
     "text": [
      "Pizza: Cheese 12 inches\n",
      "Burger: Bacon 6 ounces\n"
     ]
    }
   ],
   "source": [
    "class Pizza:\n",
    "    # Default constructor\n",
    "    def __init__(self):\n",
    "        self.topping = \"Cheese\"\n",
    "        self.size = 12\n",
    "        \n",
    "class Burger:\n",
    "    # Parameterized constructor\n",
    "    def __init__(self, topping, size):\n",
    "        self.topping = topping\n",
    "        self.size = size\n",
    "        \n",
    "# Creating objects\n",
    "p1 = Pizza()\n",
    "print(\"Pizza:\", p1.topping, p1.size, \"inches\")\n",
    "\n",
    "b1 = Burger(\"Bacon\", 6)\n",
    "print(\"Burger:\", b1.topping, b1.size, \"ounces\")"
   ]
  },
  {
   "cell_type": "markdown",
   "id": "3847fd28-7a6f-4d4f-bc6e-0735f8a31d44",
   "metadata": {},
   "source": [
    "# Attributes"
   ]
  },
  {
   "cell_type": "markdown",
   "id": "fcf1b0d4-39f3-4037-9f6c-a30edb907c82",
   "metadata": {},
   "source": [
    "Attributes are variables that belong to a class or an instance (object). They define the properties of the object.\n",
    "\n",
    "## Types of Attributes:\n",
    "\n",
    "### 🔹 Class Attributes\n",
    "- Shared by all instances of the class.  \n",
    "- Defined outside any method, usually directly under the class.\n",
    "\n",
    "### 🔹 Instance Attributes\n",
    "- Unique to each object (instance).  \n",
    "- Defined inside the constructor (`__init__`) using `self`."
   ]
  },
  {
   "cell_type": "code",
   "execution_count": 12,
   "id": "6f333da3-4b3e-4fee-9fc8-e424c1ddaba7",
   "metadata": {},
   "outputs": [
    {
     "name": "stdout",
     "output_type": "stream",
     "text": [
      "Dairy Milk Milk Chocolate Square\n",
      "KitKat Wafer Chocolate Square\n"
     ]
    }
   ],
   "source": [
    "class Chocolate:\n",
    "    # Class attribute\n",
    "    shape = \"Square\"\n",
    "\n",
    "    def __init__(self, brand, flavor):\n",
    "        # Instance attributes\n",
    "        self.brand = brand\n",
    "        self.flavor = flavor\n",
    "\n",
    "# Creating objects\n",
    "choco1 = Chocolate(\"Dairy Milk\", \"Milk Chocolate\")\n",
    "choco2 = Chocolate(\"KitKat\", \"Wafer Chocolate\")\n",
    "\n",
    "# Accessing attributes\n",
    "print(choco1.brand, choco1.flavor, choco1.shape)  # Dairy Milk Milk Chocolate Square\n",
    "print(choco2.brand, choco2.flavor, choco2.shape)  # KitKat Wafer Chocolate Square"
   ]
  },
  {
   "cell_type": "markdown",
   "id": "cafb107d-32a2-4e3f-9f35-c426f5910e82",
   "metadata": {},
   "source": [
    "# 4 Pillars of OOP (AEIP)"
   ]
  },
  {
   "cell_type": "markdown",
   "id": "2c8b0aef-0f2e-4ddd-a3c0-ef3c3f83f2b0",
   "metadata": {},
   "source": [
    "## Object-Oriented Programming Concepts:\n",
    "\n",
    "### 🔹 Abstraction\n",
    "- Hiding complex implementation details and showing only the essential features to the user.\n",
    "- Achieved in Python using abstract classes and methods (with the `abc` module).\n",
    "\n",
    "### 🔹 Encapsulation\n",
    "- Wrapping data (variables) and methods into a single unit (class).\n",
    "- Protects data by making attributes private (using `_` or `__`).\n",
    "\n",
    "### 🔹 Inheritance\n",
    "- One class (child) inherits properties and behaviors from another class (parent).\n",
    "- Promotes code reusability.\n",
    "\n",
    "### 🔹 Polymorphism\n",
    "- Ability of different classes to be treated as instances of the same class through a common interface.\n",
    "- Methods with the same name behave differently based on the object calling them.\n",
    "\n",
    "#### 🔹 Method Overloading\n",
    "- Same method name, but different number/type of arguments.\n",
    "- Python doesn’t support true overloading, but it can be mimicked by setting default arguments.\n",
    "\n",
    "#### 🔹 Method Overriding\n",
    "- Redefining a parent class method inside a child class with a new implementation.\n",
    "\n",
    "#### 🔹 Dunder (Double Underscore) Functions\n",
    "- Special functions in Python that start and end with double underscores like `__init__`, `__str__`, `__add__`.\n",
    "- Used to overload operators and customize object behavior."
   ]
  },
  {
   "cell_type": "code",
   "execution_count": 13,
   "id": "64ffdbca-95a3-4501-aff0-deea41da9a32",
   "metadata": {},
   "outputs": [
    {
     "name": "stdout",
     "output_type": "stream",
     "text": [
      "Midnight Rose\n",
      "Moonlight Serenade\n",
      "Projects a beautiful aroma with 25% concentration!\n",
      "Projects a refreshing, lighter scent!\n",
      "Moonlight Serenade is a beautiful perfume.\n",
      "Moonlight Serenade is a perfume by Chanel.\n",
      "Perfume(Name: Moonlight Serenade, Concentration: 25%)\n",
      "Cologne(Name: Ocean Breeze)\n",
      "Projects a beautiful aroma with 25% concentration!\n",
      "Projects a refreshing, lighter scent!\n"
     ]
    }
   ],
   "source": [
    "from abc import ABC, abstractmethod\n",
    "\n",
    "# Abstraction\n",
    "class Fragrance(ABC):\n",
    "    @abstractmethod\n",
    "    def project_scent(self):\n",
    "        pass\n",
    "\n",
    "# Inheritance + Encapsulation\n",
    "class Perfume(Fragrance):\n",
    "    def __init__(self, name, concentration):\n",
    "        self.__name = name               # private attribute\n",
    "        self.__concentration = concentration  # private attribute\n",
    "        \n",
    "    # Getter methods (encapsulation)\n",
    "    def get_name(self):\n",
    "        return self.__name\n",
    "    \n",
    "    def get_concentration(self):\n",
    "        return self.__concentration\n",
    "    \n",
    "    # Setter methods (encapsulation)\n",
    "    def set_name(self, new_name):\n",
    "        self.__name = new_name\n",
    "        \n",
    "    def set_concentration(self, new_concentration):\n",
    "        self.__concentration = new_concentration\n",
    "    \n",
    "    # Method overriding\n",
    "    def project_scent(self):\n",
    "        return f\"Projects a beautiful aroma with {self.__concentration}% concentration!\"\n",
    "    \n",
    "    # Method overloading (Python way - default arguments)\n",
    "    def describe(self, brand=None):\n",
    "        if brand:\n",
    "            return f\"{self.__name} is a perfume by {brand}.\"\n",
    "        else:\n",
    "            return f\"{self.__name} is a beautiful perfume.\"\n",
    "    \n",
    "    # Dunder method\n",
    "    def __str__(self):\n",
    "        return f\"Perfume(Name: {self.__name}, Concentration: {self.__concentration}%)\"\n",
    "\n",
    "# Another class to show Polymorphism\n",
    "class Cologne(Fragrance):\n",
    "    def __init__(self, name):\n",
    "        self.name = name\n",
    "        \n",
    "    def project_scent(self):\n",
    "        return \"Projects a refreshing, lighter scent!\"\n",
    "    \n",
    "    def __str__(self):\n",
    "        return f\"Cologne(Name: {self.name})\"\n",
    "\n",
    "# Main code\n",
    "perfume1 = Perfume(\"Midnight Rose\", 25)\n",
    "cologne1 = Cologne(\"Ocean Breeze\")\n",
    "\n",
    "# Encapsulation\n",
    "print(perfume1.get_name())\n",
    "perfume1.set_name(\"Moonlight Serenade\")\n",
    "print(perfume1.get_name())\n",
    "\n",
    "# Inheritance + Method Overriding\n",
    "print(perfume1.project_scent())\n",
    "print(cologne1.project_scent())\n",
    "\n",
    "# Method Overloading (using default parameter)\n",
    "print(perfume1.describe())\n",
    "print(perfume1.describe(\"Chanel\"))\n",
    "\n",
    "# Dunder functions\n",
    "print(perfume1)\n",
    "print(cologne1)\n",
    "\n",
    "# Polymorphism\n",
    "for fragrance in [perfume1, cologne1]:\n",
    "    print(fragrance.project_scent())"
   ]
  },
  {
   "cell_type": "code",
   "execution_count": null,
   "id": "dee5b918-88ef-4541-bdcb-fb83f75dc41f",
   "metadata": {},
   "outputs": [],
   "source": []
  }
 ],
 "metadata": {
  "kernelspec": {
   "display_name": "Python 3 (ipykernel)",
   "language": "python",
   "name": "python3"
  },
  "language_info": {
   "codemirror_mode": {
    "name": "ipython",
    "version": 3
   },
   "file_extension": ".py",
   "mimetype": "text/x-python",
   "name": "python",
   "nbconvert_exporter": "python",
   "pygments_lexer": "ipython3",
   "version": "3.11.7"
  }
 },
 "nbformat": 4,
 "nbformat_minor": 5
}
