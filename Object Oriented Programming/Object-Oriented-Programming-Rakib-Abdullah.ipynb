{
 "cells": [
  {
   "cell_type": "markdown",
   "id": "998c3377",
   "metadata": {},
   "source": [
    "<h1>Object-Oriented Programming in Python</h1>"
   ]
  },
  {
   "cell_type": "markdown",
   "id": "930ce343",
   "metadata": {},
   "source": [
    "<h3>Introduction to Object-Oriented Programming</h3>\n",
    "\n",
    "<h4>What is OOP</h4>\n",
    "\n",
    "Object-Oriented Programming (OOP) is a programming paradigm that uses `objects` and `classes` to structure code. It focuses on organizing software design around data, or objects, rather than functions and logic. OOP allows for code *reusability*, *scalability*, and *easier maintenance*."
   ]
  },
  {
   "cell_type": "markdown",
   "id": "bf15b8cf",
   "metadata": {},
   "source": [
    "<h4>What is Class?</h4>\n",
    "\n",
    "A class is a blueprint or prototype for creating objects. It defines the structure (attributes) and behaviors (methods) of the objects that will be created from it.\n",
    "\n",
    "<h4>What is Object?</h4>\n",
    "\n",
    "An object is an `instance` of a class. It has `attributes` and `methods` that are defined by the class. Each object can have different values for its attributes.\n",
    "\n",
    "<h4>What is Constructor?</h4>\n",
    "\n",
    "A constructor is a `special method` in a class that is called when an object is created. It is typically used to initialize the object's attributes. In Python, the constructor is defined using the `__init__` method.\n"
   ]
  },
  {
   "cell_type": "markdown",
   "id": "401c7c10",
   "metadata": {},
   "source": [
    "<h3>Example Code</h3>"
   ]
  },
  {
   "cell_type": "code",
   "execution_count": null,
   "id": "511b1712",
   "metadata": {},
   "outputs": [
    {
     "name": "stdout",
     "output_type": "stream",
     "text": [
      "Car brand: Toyota, Model: Allion\n"
     ]
    }
   ],
   "source": [
    "# Example of Car class\n",
    "class Car:\n",
    "    def __init__(self, brand, model):\n",
    "        self.brand = brand\n",
    "        self.model = model\n",
    "\n",
    "    def display_info(self):\n",
    "        print(f\"Car brand: {self.brand}, Model: {self.model}\") \n",
    "\n",
    "# Creating of an object of class Car \n",
    "my_car = Car(\"Toyota\", \"Allion\") \n",
    "my_car.display_info() \n"
   ]
  },
  {
   "cell_type": "markdown",
   "id": "7eeb9a6d",
   "metadata": {},
   "source": [
    "<h3>The four principles of OOP</h3>\n",
    "\n",
    "OOP is built on four main principles: `Encapsulation`, `Abstraction`, `Inheritance`, and `Polymorphism`. These principles allow developers to create modular, reusable, and maintainable code."
   ]
  },
  {
   "cell_type": "markdown",
   "id": "aa6f24b9",
   "metadata": {},
   "source": [
    "<h4>Encapsulation</h4>\n",
    "\n",
    "Encapsulation is the concept of bundling the data (attributes) and methods (functions) that operate on the data into a `single unit`, called a class. This allows for controlling the access to the data by `restricting access to certain components`, typically through access modifiers. It also provides a mechanism for hiding the internal workings of an object and only exposing the necessary details to the outside world.\n",
    "\n",
    "Encapsulation is primarily about hiding the `internal state of an object` and making it accessible only through well-defined methods (known as `getters` and `setters`). This ensures that the object’s data is protected and only manipulated in controlled ways."
   ]
  },
  {
   "cell_type": "code",
   "execution_count": 12,
   "id": "2a8269ad",
   "metadata": {},
   "outputs": [
    {
     "name": "stdout",
     "output_type": "stream",
     "text": [
      "Your balance is : 800\n",
      "Your balance is : 600\n"
     ]
    }
   ],
   "source": [
    "#An example of Encapsulation\n",
    "\n",
    "class BkashAccount:\n",
    "    \n",
    "    def __init__(self,balance=0):\n",
    "        self.accountBalance=balance\n",
    "    \n",
    "    def addMoney(self,amount):\n",
    "        self.accountBalance+=amount\n",
    "    def cashOut(self,amount):\n",
    "        self.accountBalance-=amount\n",
    "    def checkBalance(self):\n",
    "        print(f\"Your balance is : {self.accountBalance}\")\n",
    "    \n",
    "\n",
    "# User can't directly use the variable accountBalance,it is encapsulated\n",
    "\n",
    "rakibBkashAccount=BkashAccount(500)\n",
    "rakibBkashAccount.addMoney(300)\n",
    "rakibBkashAccount.checkBalance()\n",
    "rakibBkashAccount.cashOut(200)\n",
    "rakibBkashAccount.checkBalance()"
   ]
  },
  {
   "cell_type": "markdown",
   "id": "c7956ba2",
   "metadata": {},
   "source": [
    "<h4>Abstraction</h4>\n",
    "\n",
    "Abstraction is the concept of `exposing only the essential features of an object` while `hiding the implementation details`. The goal is to focus on what an object does, rather than how it does it. Abstraction simplifies complex systems by allowing the user to interact with a simplified interface, without needing to understand the internal workings.\n",
    "\n",
    "In Python, abstraction is often implemented using:\n",
    "\n",
    "**Abstract classes**: Classes that cannot be instantiated directly, but serve as a blueprint for other classes.\n",
    "\n",
    "**Abstract methods**: Methods that are declared in an abstract class, but must be implemented by any subclass.\n",
    "\n",
    "Python’s `abc` (Abstract Base Class) module is used to define abstract classes and methods."
   ]
  },
  {
   "cell_type": "code",
   "execution_count": 13,
   "id": "ecf326e1",
   "metadata": {},
   "outputs": [
    {
     "name": "stdout",
     "output_type": "stream",
     "text": [
      "Printing Hello.pdf document using Laser Printer\n",
      "Printing world.png document using Ink Printer\n"
     ]
    }
   ],
   "source": [
    "from abc import ABC,abstractmethod\n",
    "\n",
    "class Printer(ABC):\n",
    "    @abstractmethod\n",
    "    def print_document(self,document):\n",
    "        pass\n",
    "    \n",
    "class LaserPrinter(Printer):\n",
    "    def print_document(self, document):\n",
    "        print(f\"Printing {document} document using Laser Printer\")\n",
    "\n",
    "class InkPrinter(Printer):\n",
    "    def print_document(self, document):\n",
    "        print(f\"Printing {document} document using Ink Printer\")\n",
    "\n",
    "lp=LaserPrinter()\n",
    "ip=InkPrinter()\n",
    "\n",
    "#We dont have to know how actually Laser printer or ink printer work,we just call\n",
    "#call print_document() that's it\n",
    "lp.print_document(\"Hello.pdf\")\n",
    "ip.print_document(\"world.png\")\n",
    "        "
   ]
  },
  {
   "cell_type": "markdown",
   "id": "4578ecad",
   "metadata": {},
   "source": [
    "<h3>Inheritence</h3>\n",
    "\n",
    "Inheritance is the principle that allows a new class (called a `subclass` or `derived class`) to inherit attributes and methods from an existing class (called a `superclass` or `base class`). This promotes code reuse, as the subclass can reuse the code from the superclass and add or modify functionality as needed.\n",
    "\n",
    "With inheritance, a subclass can:\n",
    "\n",
    "- Inherit all properties and behaviors from the superclass.\n",
    "\n",
    "- Override or extend the functionality of the superclass."
   ]
  },
  {
   "cell_type": "code",
   "execution_count": null,
   "id": "62130d75",
   "metadata": {},
   "outputs": [
    {
     "name": "stdout",
     "output_type": "stream",
     "text": [
      "Bark\n",
      "Meow\n"
     ]
    }
   ],
   "source": [
    "class Animal:\n",
    "    def __init__(self,animal_name):\n",
    "        self.animal_name=animal_name\n",
    "    \n",
    "    def sound(self): \n",
    "        pass \n",
    "\n",
    "class Dog(Animal):\n",
    "    def __init__(self, animal_name):\n",
    "        super().__init__(animal_name)\n",
    "    \n",
    "    def sound(self):\n",
    "        print(\"Bark\")\n",
    "\n",
    "class Cat(Animal):\n",
    "    def __init__(self, animal_name):\n",
    "        super().__init__(animal_name)\n",
    "    \n",
    "    def sound(self):\n",
    "        print(\"Meow\")\n",
    "\n",
    "d1=Dog(\"German Shepard\")\n",
    "c1=Cat(\"Bangladeshi\")\n",
    "\n",
    "d1.sound()\n",
    "c1.sound()\n",
    "        "
   ]
  },
  {
   "cell_type": "markdown",
   "id": "207d0447",
   "metadata": {},
   "source": [
    "<h4>Types of Inheritences</h4>\n",
    "\n",
    "**Single Inheritance**: A child class inherits from a single parent class.\n",
    "\n",
    "**Multiple Inheritance**: A child class inherits from more than one parent class.\n",
    "\n",
    "**Multilevel Inheritance**: A child class inherits from a parent class, which in turn inherits from another class.\n",
    "\n",
    "**Hierarchical Inheritance**: Multiple child classes inherit from a single parent class.\n",
    "\n",
    "**Hybrid Inheritance**: A combination of two or more types of inheritance."
   ]
  },
  {
   "cell_type": "code",
   "execution_count": 31,
   "id": "4eebefaa",
   "metadata": {},
   "outputs": [
    {
     "name": "stdout",
     "output_type": "stream",
     "text": [
      "Brand : Toyota and Model : Corolla\n",
      "--------------------------------------------------\n",
      "Brand : Honda and Model : Civic\n",
      "Fuel Type : Petrol\n",
      "--------------------------------------------------\n",
      "Brand : Tesla and Model : Model 3\n",
      "Fuel Type : Electric\n",
      "Fuel Type : Electric\n",
      "--------------------------------------------------\n",
      "The Aqua Aero can fly : True\n",
      "Brand : Aqua and Model : Aero\n",
      "Fuel Type : Hybrid\n"
     ]
    }
   ],
   "source": [
    "class Vehicle:\n",
    "    def __init__(self,brand,model):\n",
    "        self.brand=brand\n",
    "        self.model=model\n",
    "    \n",
    "    def display_info(self):\n",
    "        print(f\"Brand : {self.brand} and Model : {self.model}\")\n",
    "\n",
    "#Single Inheritence\n",
    "class Car(Vehicle):\n",
    "    def __init__(self, brand, model,fuel_type):\n",
    "        super().__init__(brand, model)\n",
    "        self.fuel_type=fuel_type\n",
    "    \n",
    "    def display_info(self):\n",
    "        super().display_info()\n",
    "        print(f\"Fuel Type : {self.fuel_type}\")\n",
    "        \n",
    "#Multilevel Inheritence      \n",
    "class ElectricCar(Car):\n",
    "    def __init__(self, brand, model,fuel_type,battery_capacity):\n",
    "        super().__init__(brand, model,fuel_type)\n",
    "        self.battery_capacity=battery_capacity\n",
    "    \n",
    "    def display_info(self):\n",
    "        super().display_info()\n",
    "        print(f\"Fuel Type : {self.fuel_type}\")\n",
    "        \n",
    "class flyingVehicle:\n",
    "    def fly(self):\n",
    "        print(\"The vehicle is flying\")\n",
    "        \n",
    "# Multiple inheritence \n",
    "class flyingCar(Car,flyingVehicle):\n",
    "    def __init__(self, brand, model, fuel_type, flying_ability):\n",
    "        super().__init__(brand, model, fuel_type)\n",
    "        self.flying_ability = flying_ability\n",
    "    \n",
    "    def display_info(self):\n",
    "        print(f\"The {self.brand} {self.model} can fly : {self.flying_ability}\")\n",
    "        super().display_info()\n",
    "\n",
    "# Example Usage\n",
    "vehicle = Vehicle(\"Toyota\", \"Corolla\")\n",
    "vehicle.display_info()\n",
    "print('-'*50)\n",
    "\n",
    "car = Car(\"Honda\", \"Civic\", \"Petrol\")\n",
    "car.display_info()\n",
    "print('-'*50)\n",
    "\n",
    "electric_car = ElectricCar(\"Tesla\", \"Model 3\", \"Electric\", 75)\n",
    "electric_car.display_info()\n",
    "print('-'*50)\n",
    "\n",
    "flying_car = flyingCar(\"Aqua\", \"Aero\", \"Hybrid\", True)\n",
    "flying_car.display_info()"
   ]
  },
  {
   "cell_type": "markdown",
   "id": "efae1cae",
   "metadata": {},
   "source": [
    "<h3>Polymorphism</h3>\n",
    "\n",
    "Polymorphism is the ability of different classes to be treated as instances of the same class through inheritance. It allows methods to be used interchangeably in different objects, even if the objects are of different types. Polymorphism can be achieved in two ways:"
   ]
  },
  {
   "cell_type": "code",
   "execution_count": null,
   "id": "ea165c5e",
   "metadata": {},
   "outputs": [
    {
     "name": "stdout",
     "output_type": "stream",
     "text": [
      "Area: 78.5\n",
      "Area: 16\n"
     ]
    }
   ],
   "source": [
    "class Shape:\n",
    "    def area(self):\n",
    "        pass\n",
    "\n",
    "class Circle(Shape):\n",
    "    def __init__(self, radius):\n",
    "        self.radius = radius\n",
    "\n",
    "    def area(self):\n",
    "        return 3.14 * self.radius * self.radius\n",
    "\n",
    "class Square(Shape):\n",
    "    def __init__(self, side):\n",
    "        self.side = side\n",
    "\n",
    "    def area(self):\n",
    "        return self.side * self.side\n",
    "\n",
    "# Creating objects of the subclasses\n",
    "circle = Circle(5)\n",
    "square = Square(4)\n",
    "\n",
    "shapes = [circle, square]\n",
    "\n",
    "for shape in shapes:\n",
    "    print(f\"Area: {shape.area()}\") \n"
   ]
  },
  {
   "cell_type": "markdown",
   "id": "01336b40",
   "metadata": {},
   "source": [
    "<h3>Summary of the four principles</h3>\n",
    "\n",
    "| **Principle**    | **Description**                                                                                               | **Key Features**                                                                                                  |\n",
    "|------------------|---------------------------------------------------------------------------------------------------------------|-------------------------------------------------------------------------------------------------------------------|\n",
    "| **Encapsulation** | Hides internal state and restricts access to it, exposing only necessary functionality.                      | - Protects data<br>- Uses getter/setter methods<br>- Data is private and accessed via public methods               |\n",
    "| **Abstraction**   | Hides complexity and shows only essential features. Focuses on **what** an object does, not **how**.           | - Simplifies interaction<br>- Provides a clear interface<br>- Achieved with abstract classes/methods                |\n",
    "| **Inheritance**   | Allows one class to inherit the properties and methods of another, promoting code reuse.                     | - Code reuse<br>- Subclass extends or overrides base class behavior<br>- Creates class hierarchies                 |\n",
    "| **Polymorphism**  | Allows objects of different classes to be treated as instances of the same class, enabling method behavior variation. | - Methods behave differently based on object type<br>- Achieved with method overriding<br>- Increases flexibility   |\n",
    "\n"
   ]
  },
  {
   "cell_type": "markdown",
   "id": "1d901cfa",
   "metadata": {},
   "source": [
    "<h3>Types of Methods in Python Classes</h3>\n",
    "\n",
    "<h4>Instance Method</h4>\n",
    "\n",
    "Instance methods are the most common type of methods. They operate on an instance of the class and can access or modify the instance's attributes.\n",
    "\n",
    "Instance methods always take the first parameter as `self`, which refers to the instance of the class."
   ]
  },
  {
   "cell_type": "code",
   "execution_count": 16,
   "id": "cb28364a",
   "metadata": {},
   "outputs": [
    {
     "name": "stdout",
     "output_type": "stream",
     "text": [
      "Dog name : tommy and age : 4\n"
     ]
    }
   ],
   "source": [
    "class Dog:\n",
    "    def __init__(self,name,age):\n",
    "        self.name=name\n",
    "        self.age=age\n",
    "    \n",
    "    def print_info(self):\n",
    "        print(f\"Dog name : {self.name} and age : {self.age}\")\n",
    "\n",
    "d1=Dog(\"tommy\",4)\n",
    "\n",
    "d1.print_info()"
   ]
  },
  {
   "cell_type": "markdown",
   "id": "9a3ebe82",
   "metadata": {},
   "source": [
    "<h4>Static Method</h4>\n",
    "\n",
    "A **static** method in Python is a method that does not operate on an instance or class directly. It is used when you need to perform **a function that is related to the class** but doesn't need to access or modify the class or instance attributes. Static methods are defined using the `@staticmethod` decorator."
   ]
  },
  {
   "cell_type": "code",
   "execution_count": null,
   "id": "f8793061",
   "metadata": {},
   "outputs": [
    {
     "name": "stdout",
     "output_type": "stream",
     "text": [
      "25 degree celsius in farenhite is 77.0\n"
     ]
    }
   ],
   "source": [
    "class Temperature:\n",
    "    @staticmethod\n",
    "    def celsius_to_farenhite(celsius):\n",
    "        return (celsius * 9/5) + 32 \n",
    "    \n",
    "farenhite_temp = Temperature.celsius_to_farenhite(25)\n",
    "print(f\"25 degree celsius in farenhite is {farenhite_temp}\")"
   ]
  },
  {
   "cell_type": "markdown",
   "id": "30b8b75f",
   "metadata": {},
   "source": [
    "<b>Code Explaination</b>\n",
    "\n",
    "*Static Method (celsius_to_fahrenheit)*: This method doesn't require any instance data or class data. It performs a simple calculation based on the argument celsius.\n",
    "\n",
    "*Usage*: We call the static method directly using the class `Temperature.celsius_to_fahrenheit(25))` without needing to create an instance."
   ]
  },
  {
   "cell_type": "markdown",
   "id": "fb424341",
   "metadata": {},
   "source": [
    "<h4>Class Method</h4>\n",
    "\n",
    "A class method in Python is a method that is bound to the class and not the instance of the class. Class methods are used when you need to operate on class-level data (class variables) rather than instance-level data. Class methods take `cls` as their first parameter, which refers to the class itself.\n",
    "\n",
    "Class methods are defined using the `@classmethod` decorator."
   ]
  },
  {
   "cell_type": "code",
   "execution_count": null,
   "id": "6518cd46",
   "metadata": {},
   "outputs": [
    {
     "name": "stdout",
     "output_type": "stream",
     "text": [
      "2\n"
     ]
    }
   ],
   "source": [
    "class CloudlyEmployee:\n",
    "    employee_count=0    \n",
    "    \n",
    "    def __init__(self,idNum):   \n",
    "        self.id=idNum   \n",
    "        CloudlyEmployee.increament_employee()   \n",
    "        \n",
    "    \n",
    "    @classmethod\n",
    "    def increament_employee(cls):   \n",
    "        cls.employee_count+=1   \n",
    "        \n",
    "    @classmethod\n",
    "    def get_employee_count(cls): \n",
    "        return cls.employee_count \n",
    "\n",
    "\n",
    "rakib=CloudlyEmployee(\"446\") \n",
    "imtiaz=CloudlyEmployee(\"889\") \n",
    "\n",
    "print(CloudlyEmployee.get_employee_count())  \n",
    "        "
   ]
  },
  {
   "cell_type": "markdown",
   "id": "71d06922",
   "metadata": {},
   "source": [
    "<h3>Advanced OOP techniques</h3>\n",
    "\n",
    "- Method Resolution Order     \n",
    "- Use of super() in OOP  "
   ]
  },
  {
   "cell_type": "markdown",
   "id": "79699add",
   "metadata": {},
   "source": [
    "<h3>Design Principles of OOP</h3>\n",
    "\n",
    "- SRP\n",
    "- OCP\n",
    "- LSP\n",
    "- ISP\n",
    "- DIP\n",
    "- DRY\n",
    "- KISS \n",
    "- YAGNI\n"
   ]
  },
  {
   "cell_type": "markdown",
   "id": "e7b81fdd",
   "metadata": {},
   "source": [
    "<h3>Decorators in Python</h3>\n",
    "\n",
    "- What are decorators\n",
    "- Types of Decorators\n",
    "- Examples"
   ]
  },
  {
   "cell_type": "markdown",
   "id": "986b051e",
   "metadata": {},
   "source": [
    "<h3>Property Decorators in Python</h3>\n",
    "\n",
    "- What is a property\n",
    "- Types of Proporties"
   ]
  },
  {
   "cell_type": "markdown",
   "id": "c0f60b31",
   "metadata": {},
   "source": [
    "<h3>Best Practices for Writing Clean OOP Code in Python<h3>\n",
    "\n"
   ]
  },
  {
   "cell_type": "markdown",
   "id": "9c974e99",
   "metadata": {},
   "source": [
    "<h3>Summary of OOP Concepts</h3>"
   ]
  }
 ],
 "metadata": {
  "kernelspec": {
   "display_name": "base",
   "language": "python",
   "name": "python3"
  },
  "language_info": {
   "codemirror_mode": {
    "name": "ipython",
    "version": 3
   },
   "file_extension": ".py",
   "mimetype": "text/x-python",
   "name": "python",
   "nbconvert_exporter": "python",
   "pygments_lexer": "ipython3",
   "version": "3.12.4"
  }
 },
 "nbformat": 4,
 "nbformat_minor": 5
}
