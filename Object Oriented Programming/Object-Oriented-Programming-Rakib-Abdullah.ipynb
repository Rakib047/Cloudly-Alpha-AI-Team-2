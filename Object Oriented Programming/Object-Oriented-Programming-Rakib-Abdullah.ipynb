{
 "cells": [
  {
   "cell_type": "markdown",
   "id": "998c3377",
   "metadata": {},
   "source": [
    "<h1>Object-Oriented Programming in Python</h1>"
   ]
  },
  {
   "cell_type": "markdown",
   "id": "930ce343",
   "metadata": {},
   "source": [
    "<h3>Introduction to Object-Oriented Programming</h3>\n",
    "\n",
    "- What is OOP\n",
    "- Class\n",
    "- Object\n",
    "- Constructor\n"
   ]
  },
  {
   "cell_type": "markdown",
   "id": "24bf0ed0",
   "metadata": {},
   "source": [
    "<h3>The four principles of OOP</h3>\n",
    "\n",
    "<h4>Encapsulation</h4>\n",
    "<h4>Abstraction</h4>\n",
    "<h4>Inheritence</h4>\n",
    "<h4>Polymorphism<h4>"
   ]
  },
  {
   "cell_type": "markdown",
   "id": "0e615f5d",
   "metadata": {},
   "source": [
    "<h3>Key OOP concepts</h3>\n",
    "\n",
    "- Class and Object\n",
    "- Instance,Class and Static methods\n",
    "- Composition"
   ]
  },
  {
   "cell_type": "markdown",
   "id": "71d06922",
   "metadata": {},
   "source": [
    "<h3>Advanced OOP techniques</h3>\n",
    "\n",
    "- Method Resolution Order\n",
    "- Use of super() in OOP"
   ]
  },
  {
   "cell_type": "markdown",
   "id": "79699add",
   "metadata": {},
   "source": [
    "<h3>Design Principles of OOP</h3>\n",
    "\n",
    "- SRP\n",
    "- OCP\n",
    "- LSP\n",
    "- ISP\n",
    "- DIP\n",
    "- DRY\n",
    "- KISS \n",
    "- YAGNI\n"
   ]
  },
  {
   "cell_type": "markdown",
   "id": "b542c666",
   "metadata": {},
   "source": [
    "<h3>Implementing OOP Features in Python</h3>\n",
    "\n",
    "- Creating Classes and Objects\n",
    "- Using __init__ method\n",
    "- Inheritence Example"
   ]
  },
  {
   "cell_type": "markdown",
   "id": "e7b81fdd",
   "metadata": {},
   "source": [
    "<h3>Decorators in Python</h3>\n",
    "\n",
    "- What are decorators\n",
    "- Types of Decorators\n",
    "- Examples"
   ]
  },
  {
   "cell_type": "markdown",
   "id": "986b051e",
   "metadata": {},
   "source": [
    "<h3>Property Decorators in Python</h3>\n",
    "\n",
    "- What is a property\n",
    "- Types of Proporties"
   ]
  },
  {
   "cell_type": "markdown",
   "id": "c0f60b31",
   "metadata": {},
   "source": [
    "<h3>Best Practices for Writing Clean OOP Code in Python<h3>\n",
    "\n"
   ]
  },
  {
   "cell_type": "markdown",
   "id": "9c974e99",
   "metadata": {},
   "source": [
    "<h3>Summary of OOP Concepts</h3>"
   ]
  }
 ],
 "metadata": {
  "language_info": {
   "name": "python"
  }
 },
 "nbformat": 4,
 "nbformat_minor": 5
}
