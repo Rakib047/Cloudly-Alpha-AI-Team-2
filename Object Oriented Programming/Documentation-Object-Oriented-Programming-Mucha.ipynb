{
  "nbformat": 4,
  "nbformat_minor": 0,
  "metadata": {
    "colab": {
      "provenance": []
    },
    "kernelspec": {
      "name": "python3",
      "display_name": "Python 3"
    },
    "language_info": {
      "name": "python"
    }
  },
  "cells": [
    {
      "cell_type": "markdown",
      "source": [
        "# **Object-Oriented Programming (OOP) in Python**"
      ],
      "metadata": {
        "id": "rPAQC2GGujlZ"
      }
    },
    {
      "cell_type": "markdown",
      "source": [
        "**What is OOP?**\n",
        "\n",
        "**OOP** is a programming paradigm that structures software design around objects, which are instances of classes. These objects contain both data (*attributes*) and methods (*functions*) that operate on the data. OOP helps in organizing complex programs, making them more modular, reusable, and easier to maintain.\n",
        "\n",
        "- **Class**: A blueprint for creating objects with specific data and behavior\n",
        "- **Object**: An instance of a class that holds actual data and can perform actions\n",
        "- **Method**: A function defined inside a class that describes object actions"
      ],
      "metadata": {
        "id": "1rjvNxkWrpEo"
      }
    },
    {
      "cell_type": "markdown",
      "source": [
        "**Constructor:**\n",
        "A constructor is a special method in a class that automatically runs when a new object is created. It is used to initialize the object’s attributes.\n",
        "\n",
        "Example:"
      ],
      "metadata": {
        "id": "7Lobp5pPtkhl"
      }
    },
    {
      "cell_type": "code",
      "source": [
        "class Student:\n",
        "    # Constructor with default values\n",
        "    def __init__(self, name=\"Unknown\", marks=0, bonus=0):\n",
        "        self.name = name\n",
        "        self.marks = marks\n",
        "        self.bonus = bonus\n",
        "\n",
        "    def get_total_marks(self):\n",
        "        return self.marks + self.bonus\n",
        "\n",
        "# Object using parameterized constructor\n",
        "student1 = Student(name=\"Rahim\", marks=85, bonus=5)\n",
        "print(student1.name, student1.get_total_marks())\n",
        "\n",
        "# Object using default constructor (no arguments)\n",
        "student2 = Student()\n",
        "print(student2.name, student2.get_total_marks())\n"
      ],
      "metadata": {
        "colab": {
          "base_uri": "https://localhost:8080/"
        },
        "id": "QUgjYZEeuIUv",
        "outputId": "cc86ec8e-873b-461b-9cda-a7e273c127af"
      },
      "execution_count": 19,
      "outputs": [
        {
          "output_type": "stream",
          "name": "stdout",
          "text": [
            "Rahim 90\n",
            "Unknown 0\n"
          ]
        }
      ]
    },
    {
      "cell_type": "markdown",
      "source": [
        "### **Attributes**\n",
        "\n",
        "There are two main types of attributes in Python classes:\n"
      ],
      "metadata": {
        "id": "rNLqLQ0xYhD_"
      }
    },
    {
      "cell_type": "markdown",
      "source": [
        "##### **Instance Attributes**\n",
        "##### Characteristics\n",
        "- Defined **inside** the `__init__()` method using `self.attribute`\n",
        "- Each object maintains **its own separate copy**\n",
        "- Represent **object-specific state**\n",
        "- Accessed only through class instances\n",
        "\n",
        "##### **Class Attributes**\n",
        "##### Characteristics\n",
        "- Belong to the class, shared across all instances.\n",
        "- Defined outside any method, directly inside the class.\n",
        "\n",
        "Example:"
      ],
      "metadata": {
        "id": "WHtsPrZkZcl1"
      }
    },
    {
      "cell_type": "code",
      "source": [
        "class Student:\n",
        "    school_name = \"ABC High School\"  # Class attribute\n",
        "\n",
        "    def __init__(self, name, marks):\n",
        "        self.name = name            # Instance attribute\n",
        "        self.marks = marks\n",
        "\n",
        "s1 = Student(\"Rahim\", 90)\n",
        "s2 = Student(\"Karim\", 85)\n",
        "\n",
        "print(s1.school_name)\n",
        "print(s2.school_name)\n",
        "\n",
        "# Changing class attribute via class name\n",
        "Student.school_name = \"XYZ School\"\n",
        "print(s1.school_name)\n"
      ],
      "metadata": {
        "colab": {
          "base_uri": "https://localhost:8080/"
        },
        "id": "V4cKyKS3airw",
        "outputId": "22ae900f-2a1d-4f2b-f3c1-6e04d2171cbc"
      },
      "execution_count": 21,
      "outputs": [
        {
          "output_type": "stream",
          "name": "stdout",
          "text": [
            "ABC High School\n",
            "ABC High School\n",
            "XYZ School\n"
          ]
        }
      ]
    },
    {
      "cell_type": "markdown",
      "source": [
        "### **Class and Static Methods**\n",
        "\n",
        "#### Types of methods:\n",
        "\n",
        "1. **Instance Method**  \n",
        "   - Works with instance variables (data specific to an object)  \n",
        "   - Uses `self` as first parameter  \n",
        "\n",
        "2. **Class Method**  \n",
        "   - Works with class variables  \n",
        "   - Uses `cls` as first parameter  \n",
        "   - Marked with `@classmethod` decorator  \n",
        "\n",
        "3. **Static Method**  \n",
        "   - Acts like a regular function, but belongs to a class  \n",
        "   - Doesn't receive `self` or `cls` parameters  \n",
        "   - Marked with `@staticmethod` decorator\n",
        "\n",
        "Example:        "
      ],
      "metadata": {
        "id": "Pwtk_G47wAWB"
      }
    },
    {
      "cell_type": "code",
      "source": [
        "class Student:\n",
        "    school_name = \"ABC High School\"\n",
        "\n",
        "    # Constructor\n",
        "    def __init__(self, name, marks):\n",
        "        self.name = name\n",
        "        self.marks = marks\n",
        "\n",
        "    # Instance method\n",
        "    def get_details(self):\n",
        "        return f\"Name: {self.name}, Marks: {self.marks}\"\n",
        "\n",
        "    # Class method\n",
        "    @classmethod\n",
        "    def get_school_name(cls):\n",
        "        return f\"School: {cls.school_name}\"\n",
        "\n",
        "    # Static method\n",
        "    @staticmethod\n",
        "    def is_passed(marks):\n",
        "        return marks >= 40\n",
        "\n",
        "s1 = Student(\"Rahim\", 85)\n",
        "\n",
        "# Calling instance method\n",
        "print(s1.get_details())\n",
        "\n",
        "# Calling class method\n",
        "print(Student.get_school_name())\n",
        "\n",
        "# Calling static method\n",
        "print(Student.is_passed(s1.marks))\n"
      ],
      "metadata": {
        "colab": {
          "base_uri": "https://localhost:8080/"
        },
        "id": "44JoFsZowCLO",
        "outputId": "08c09455-2a16-49cf-9b29-cf95de60da2d"
      },
      "execution_count": 1,
      "outputs": [
        {
          "output_type": "stream",
          "name": "stdout",
          "text": [
            "Name: Rahim, Marks: 85\n",
            "School: ABC High School\n",
            "True\n"
          ]
        }
      ]
    },
    {
      "cell_type": "markdown",
      "source": [
        "### **The Four Pillars of OOP**"
      ],
      "metadata": {
        "id": "BrPrgl10zcrZ"
      }
    },
    {
      "cell_type": "markdown",
      "source": [
        "##### **Encapsulation**  \n",
        "Encapsulation is the grouping of variables and methods into one unit (Class) without granting direct access to them.  \n",
        "\n",
        "**Benefits:**  \n",
        "✔ Reduces complexity  \n",
        "✔ Increases scalability and reusability  \n",
        "✔ Keeps information safe  \n",
        "\n",
        "**Access Modifiers in Python:**  \n",
        "\n",
        "| Type      | Syntax       | Accessibility                     | Python Convention          |\n",
        "|-----------|-------------|-----------------------------------|---------------------------|\n",
        "| Public    | No prefix    | Accessible from anywhere          | Default in Python          |\n",
        "| Protected | `_variable`  | Within class and subclasses       | Single underscore prefix   |\n",
        "| Private   | `__variable` | Only within defining class        | Double underscore prefix   |\n",
        "\n",
        "### Example:"
      ],
      "metadata": {
        "id": "N2yFYVBVz7L7"
      }
    },
    {
      "cell_type": "code",
      "source": [
        "class Employee:\n",
        "    def __init__(self, name, salary, department):\n",
        "        self.name = name                # Public attribute\n",
        "        self._department = department  # Protected attribute\n",
        "        self.__salary = salary         # Private attribute (encapsulated)\n",
        "\n",
        "    def get_salary(self):\n",
        "        return self.__salary\n",
        "\n",
        "    def set_salary(self, new_salary):\n",
        "        if new_salary > 0:\n",
        "            self.__salary = new_salary\n",
        "        else:\n",
        "            print(\"Invalid Salary\")\n",
        "\n",
        "# Create object\n",
        "emp_1 = Employee(\"Rahim\", 50000, \"HR\")\n",
        "\n",
        "# Access public attribute\n",
        "print(emp_1.name)\n",
        "\n",
        "# Access protected attribute\n",
        "print(emp_1._department)\n",
        "\n",
        "# Access private attribute via method\n",
        "print(emp_1.get_salary())\n",
        "\n",
        "# Update salary using setter\n",
        "emp_1.set_salary(60000)\n",
        "print(emp_1.get_salary())\n",
        "\n",
        "\n"
      ],
      "metadata": {
        "colab": {
          "base_uri": "https://localhost:8080/"
        },
        "id": "8lO8ITouzuqo",
        "outputId": "698020d6-0df3-4b7e-bda5-188ffdd62135"
      },
      "execution_count": 14,
      "outputs": [
        {
          "output_type": "stream",
          "name": "stdout",
          "text": [
            "Rahim\n",
            "HR\n",
            "50000\n",
            "60000\n"
          ]
        }
      ]
    },
    {
      "cell_type": "markdown",
      "source": [
        "####  **Abstraction**\n",
        "\n",
        "Abstraction is an OOP concept that involves hiding the complexity of a system by exposing only the essential details to the user. It allows you to focus on what an object does, rather than how it does it."
      ],
      "metadata": {
        "id": "GShPg6ik3uDq"
      }
    },
    {
      "cell_type": "code",
      "source": [
        "from abc import ABC, abstractmethod\n",
        "\n",
        "# Abstrct Class\n",
        "class Vehicle(ABC):\n",
        "  @abstractmethod\n",
        "  def start(self):  # Abstract method\n",
        "        pass\n",
        "  def stop(self):\n",
        "        pass\n",
        "# SubClass\n",
        "class Car(Vehicle):\n",
        "  def start(self):\n",
        "        print(\"Car is starting.\")\n",
        "  def stop(self):\n",
        "        print(\"Car is stopping.\")\n",
        "car = Car()\n",
        "car.start()\n",
        "car.stop()"
      ],
      "metadata": {
        "colab": {
          "base_uri": "https://localhost:8080/"
        },
        "id": "YWnSRy5Z3JDP",
        "outputId": "af17717e-3716-4463-cdfa-fb3b1b6fcbca"
      },
      "execution_count": 15,
      "outputs": [
        {
          "output_type": "stream",
          "name": "stdout",
          "text": [
            "Car is starting.\n",
            "Car is stopping.\n"
          ]
        }
      ]
    },
    {
      "cell_type": "markdown",
      "source": [
        "#### **Inheritance**  \n",
        "\n",
        "Inheritance is an OOP concept that allows a class (child/subclass) to inherit properties and methods from another class (parent/superclass).  \n",
        "\n",
        "**Benefits:**  \n",
        "✔ Promotes code reusability  \n",
        "✔ Reduces duplication  \n",
        "✔ Supports hierarchical relationships  \n",
        "\n",
        "### Types of Inheritance in Python:  \n",
        "\n",
        "| Type                  | Description                          | Example Code Snippet              |\n",
        "|-----------------------|--------------------------------------|-----------------------------------|\n",
        "| **Single**           | One child, one parent                | `class Child(Parent):`            |\n",
        "| **Multiple**         | One child, multiple parents         | `class Child(Parent1, Parent2):`  |\n",
        "| **Multilevel**       | Child → Parent → Grandparent        | `class Child(Parent):`<br>`class Parent(Grandparent):` |\n",
        "| **Hierarchical**     | Multiple children, same parent      | `class Child1(Parent):`<br>`class Child2(Parent):` |\n",
        "\n",
        "### Example :\n"
      ],
      "metadata": {
        "id": "lxf8k8dp7Xon"
      }
    },
    {
      "cell_type": "code",
      "source": [
        "# Parent class\n",
        "class Animal:\n",
        "    def speak(self):\n",
        "        print(\"The animal makes a sound.\")\n",
        "\n",
        "# Child class\n",
        "class Dog(Animal):\n",
        "    def bark(self):\n",
        "        print(\"The dog barks.\")\n",
        "\n",
        "# Create an object of Dog\n",
        "d = Dog()\n",
        "d.speak()\n",
        "d.bark()\n"
      ],
      "metadata": {
        "colab": {
          "base_uri": "https://localhost:8080/"
        },
        "id": "L0Pwj1UA7uM4",
        "outputId": "669e1bc7-0e8a-417c-ae5c-47c370057c8a"
      },
      "execution_count": 7,
      "outputs": [
        {
          "output_type": "stream",
          "name": "stdout",
          "text": [
            "The animal makes a sound.\n",
            "The dog barks.\n"
          ]
        }
      ]
    },
    {
      "cell_type": "markdown",
      "source": [
        "#### **Polymorphism**\n",
        "\n",
        "Polymorphism means \"many forms\". In OOP, it allows objects of different classes to be treated through the same interface, even if they behave differently.\n",
        "\n",
        "In Python, polymorphism is mainly achieved through:\n",
        "*   Method Overriding\n",
        "*   Dunder Methods (special methods like __str__, __add__, etc.)"
      ],
      "metadata": {
        "id": "meabfEZt--7Q"
      }
    },
    {
      "cell_type": "markdown",
      "source": [
        "###### **Method Overriding**\n",
        "When a child class provides its own version of a method that is already defined in the parent class.\n",
        "\n",
        "Example:"
      ],
      "metadata": {
        "id": "fFcNcW8e_gZa"
      }
    },
    {
      "cell_type": "code",
      "source": [
        "class Animal:\n",
        "    def speak(self):\n",
        "        print(\"Animal speaks\")\n",
        "class Dog(Animal):\n",
        "    def speak(self):\n",
        "        print(\"Dog barks\")\n",
        "a = Animal()\n",
        "d = Dog()\n",
        "\n",
        "a.speak()\n",
        "d.speak()"
      ],
      "metadata": {
        "colab": {
          "base_uri": "https://localhost:8080/"
        },
        "id": "vITSZzJt-ydX",
        "outputId": "0d96e116-f2e1-4c56-87af-7d6e2c042305"
      },
      "execution_count": 8,
      "outputs": [
        {
          "output_type": "stream",
          "name": "stdout",
          "text": [
            "Animal speaks\n",
            "Dog barks\n"
          ]
        }
      ]
    },
    {
      "cell_type": "markdown",
      "source": [
        "##### **Method Overloading**\n",
        "Python does not support method overloading directly like Java or C++. But we can achieve similar behavior using default arguments or *args.\n",
        "\n",
        "Exmple:"
      ],
      "metadata": {
        "id": "J3u9IxfjB4NH"
      }
    },
    {
      "cell_type": "code",
      "source": [
        "class Calculator:\n",
        "  def add(self, a, b=0, c=0):\n",
        "    return a + b + c\n",
        "calc = Calculator()\n",
        "print(calc.add(2,3))\n",
        "print(calc.add(2,3,4))\n"
      ],
      "metadata": {
        "colab": {
          "base_uri": "https://localhost:8080/"
        },
        "id": "qylhACRWCP6s",
        "outputId": "6a4313fc-1a2c-4d84-b9ab-3ba646d4b4f1"
      },
      "execution_count": 9,
      "outputs": [
        {
          "output_type": "stream",
          "name": "stdout",
          "text": [
            "5\n",
            "9\n"
          ]
        }
      ]
    },
    {
      "cell_type": "markdown",
      "source": [
        "#### **Dunder (Magic) Method**\n",
        "Dunder (double underscore) methods allow operator overloading and customization of built-in behavior.\n",
        "\n",
        "Example:"
      ],
      "metadata": {
        "id": "98T2N5tBC5G0"
      }
    },
    {
      "cell_type": "code",
      "source": [
        "class Book:\n",
        "    def __init__(self, pages):\n",
        "        self.pages = pages\n",
        "\n",
        "    def __add__(self, other):\n",
        "        return self.pages + other.pages\n",
        "\n",
        "    def __str__(self):\n",
        "        return f\"Book with {self.pages} pages\"\n",
        "\n",
        "b1 = Book(100)\n",
        "b2 = Book(150)\n",
        "\n",
        "print(b1 + b2)\n",
        "print(str(b1))\n"
      ],
      "metadata": {
        "colab": {
          "base_uri": "https://localhost:8080/"
        },
        "id": "tyg8VeUsDEy_",
        "outputId": "53865390-0c30-4702-be3f-b397d739512f"
      },
      "execution_count": 12,
      "outputs": [
        {
          "output_type": "stream",
          "name": "stdout",
          "text": [
            "250\n",
            "Book with 100 pages\n"
          ]
        }
      ]
    },
    {
      "cell_type": "markdown",
      "source": [
        "### **Decorator**\n",
        "A decorator is a function that modifies or enhances another function or method without changing its actual code. It's a powerful and elegant way to extend behavior.\n",
        "\n",
        "Example:"
      ],
      "metadata": {
        "id": "QOxERoQGLHQT"
      }
    },
    {
      "cell_type": "code",
      "source": [
        "def my_decorator(func):\n",
        "    def wrapper():\n",
        "        print(\"Before the function runs\")\n",
        "        func()\n",
        "        print(\"After the function runs\")\n",
        "    return wrapper\n",
        "@my_decorator\n",
        "def say_hello():\n",
        "    print(\"Hello!\")\n",
        "\n",
        "# Call the decorated function\n",
        "say_hello()"
      ],
      "metadata": {
        "colab": {
          "base_uri": "https://localhost:8080/"
        },
        "id": "1NWIcNS1LUR0",
        "outputId": "4127edd7-e031-4112-bfa5-550c4a77fc71"
      },
      "execution_count": 18,
      "outputs": [
        {
          "output_type": "stream",
          "name": "stdout",
          "text": [
            "Before the function runs\n",
            "Hello!\n",
            "After the function runs\n"
          ]
        }
      ]
    }
  ]
}
