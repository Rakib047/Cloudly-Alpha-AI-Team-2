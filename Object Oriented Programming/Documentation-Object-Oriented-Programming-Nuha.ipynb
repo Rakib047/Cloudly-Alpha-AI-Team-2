{
 "cells": [
  {
   "cell_type": "markdown",
   "id": "a4603457",
   "metadata": {},
   "source": [
    "# OOP\n",
    "\n",
    "OOP is a programming paradigm based on the concept of classes and objects. Its main purpose is to make coding smoother by creating modular, reusable, and easily manageable code.\n",
    "\n",
    "- Class: A class is a blueprint or template of the objects.\n",
    "- Object: An instance of a class. \n",
    "- Attributes: Data representing key characteristics of classes and objects.\n",
    "- Methods: Functions defined within a class.\n",
    "\n",
    "**Methods are crucial for maintaining OOP principles.**\n",
    "\n",
    "## Constructor\n",
    " - Constructor is a special method for initializing objects of a class.The constructor's name is always `__init__`. Its primary purpose is to set up the initial state of an object by assigning values to its attributes. \n",
    "\n"
   ]
  },
  {
   "cell_type": "code",
   "execution_count": 1,
   "id": "c5531c20",
   "metadata": {},
   "outputs": [
    {
     "name": "stdout",
     "output_type": "stream",
     "text": [
      "Book: Book 1, Quantity: 12, Author: Author 1, Price: 120\n",
      "Book: Book 2, Quantity: 18, Author: Author 2, Price: 220\n",
      "Book: Book 3, Quantity: 28, Author: Author 3, Price: 320\n"
     ]
    }
   ],
   "source": [
    "class Book:\n",
    "    def __init__(self, title, quantity, author, price):\n",
    "        self.title = title\n",
    "        self.quantity = quantity\n",
    "        self.author = author\n",
    "        self.price = price\n",
    "\n",
    "    def __repr__(self):\n",
    "        return f\"Book: {self.title}, Quantity: {self.quantity}, Author: {self.author}, Price: {self.price}\"\n",
    "\n",
    "\n",
    "book1 = Book('Book 1', 12, 'Author 1', 120)\n",
    "book2 = Book('Book 2', 18, 'Author 2', 220)\n",
    "book3 = Book('Book 3', 28, 'Author 3', 320)\n",
    "\n",
    "print(book1)\n",
    "print(book2)\n",
    "print(book3)"
   ]
  },
  {
   "cell_type": "markdown",
   "id": "d5e9c29f",
   "metadata": {},
   "source": [
    "**The `__repr__` is a special method which returns a string representation of the object instead of the corresponding memory location of an object.**\n",
    "\n",
    "- Special methods are also referred to as magic methods or dunder methods. They are predefined methods in Python and used to customize certain class behaiviours.\n",
    "\n",
    "Here are some of the special methods that are commonly used:\n",
    "\n",
    "- `__getitem__(self, key):` This method allows for indexing and slicing of the object.\n",
    "- `__setitem__(self, key, value):` This method allows for assigning values to elements of the object.\n",
    "- `__len__(self):` This method returns the length of the object, which is used when the len() function is called on the object."
   ]
  },
  {
   "cell_type": "markdown",
   "id": "30399081",
   "metadata": {},
   "source": [
    "## Default Constructor\n"
   ]
  },
  {
   "cell_type": "code",
   "execution_count": 2,
   "id": "9516ef69",
   "metadata": {},
   "outputs": [
    {
     "name": "stdout",
     "output_type": "stream",
     "text": [
      "Book: Unknown, Quantity: 0, Author: Unknown, Price: 0.0\n",
      "Book: Unknown, Quantity: 0, Author: Unknown, Price: 0.0\n",
      "Book: Unknown, Quantity: 0, Author: Unknown, Price: 0.0\n"
     ]
    }
   ],
   "source": [
    "class Book:\n",
    "    def __init__(self):\n",
    "        self.title = \"Unknown\"\n",
    "        self.quantity = 0\n",
    "        self.author = \"Unknown\"\n",
    "        self.price = 0.0\n",
    "\n",
    "    def __repr__(self):\n",
    "        return f\"Book: {self.title}, Quantity: {self.quantity}, Author: {self.author}, Price: {self.price}\"\n",
    "\n",
    "\n",
    "book1 = Book()\n",
    "book2 = Book()\n",
    "book3 = Book()\n",
    "\n",
    "print(book1)\n",
    "print(book2)\n",
    "print(book3)\n"
   ]
  },
  {
   "cell_type": "markdown",
   "id": "a207a307",
   "metadata": {},
   "source": [
    "The default constructor doesn't take any parameters. It initializes the object with the parameters defined in the constructor. However, to make the constructor accept parameters optionally, default values can be set for the constructor parameters."
   ]
  },
  {
   "cell_type": "code",
   "execution_count": 3,
   "id": "ac3e63d3",
   "metadata": {},
   "outputs": [
    {
     "name": "stdout",
     "output_type": "stream",
     "text": [
      "Book: Unknown, Quantity: 0, Author: Unknown, Price: 0.0\n",
      "Book: Harry Potter and the Prisoner of Azkaban, Quantity: 18, Author: J. K. Rowling, Price: 220\n"
     ]
    }
   ],
   "source": [
    "class Book:\n",
    "    def __init__(self, title=\"Unknown\", quantity=0, author=\"Unknown\", price=0.0):\n",
    "        self.title = title\n",
    "        self.quantity = quantity\n",
    "        self.author = author\n",
    "        self.price = price\n",
    "\n",
    "    def __repr__(self):\n",
    "        return f\"Book: {self.title}, Quantity: {self.quantity}, Author: {self.author}, Price: {self.price}\"\n",
    "\n",
    "# Using without passing parameters (default constructor behavior)\n",
    "book1 = Book()\n",
    "\n",
    "# Using by passing parameters (parameterized constructor behavior)\n",
    "book2 = Book('Harry Potter and the Prisoner of Azkaban', 18, 'J. K. Rowling', 220)\n",
    "\n",
    "print(book1)\n",
    "print(book2)\n"
   ]
  },
  {
   "cell_type": "markdown",
   "id": "a2f40500",
   "metadata": {},
   "source": [
    "**Attributes are the key properties of any class and it's objects. There are two type of attributes:**\n",
    "\n",
    "- Class Attributes\n",
    "- Instance Attributes"
   ]
  },
  {
   "cell_type": "markdown",
   "id": "205e6725",
   "metadata": {},
   "source": [
    "**Class Attributes belong to a class specifically and can be shared by all of it's instances.**"
   ]
  },
  {
   "cell_type": "code",
   "execution_count": 4,
   "id": "fc157879",
   "metadata": {},
   "outputs": [
    {
     "name": "stdout",
     "output_type": "stream",
     "text": [
      "Book: Book 1, Quantity: 12, Author: Author 1, Price: 120, Category: Literature\n",
      "Book: Book 2, Quantity: 18, Author: Author 2, Price: 220, Category: Literature\n",
      "Book: Book 1, Quantity: 12, Author: Author 1, Price: 120, Category: Fiction\n",
      "Book: Book 2, Quantity: 18, Author: Author 2, Price: 220, Category: Fiction\n"
     ]
    }
   ],
   "source": [
    "class Book:\n",
    "    # Class attribute\n",
    "    category = \"Literature\"\n",
    "\n",
    "    def __init__(self, title, quantity, author, price):\n",
    "        self.title = title      # Instance attributes\n",
    "        self.quantity = quantity\n",
    "        self.author = author\n",
    "        self.price = price\n",
    "\n",
    "    def __repr__(self):\n",
    "        return f\"Book: {self.title}, Quantity: {self.quantity}, Author: {self.author}, Price: {self.price}, Category: {Book.category}\"\n",
    "\n",
    "# Objects\n",
    "book1 = Book('Book 1', 12, 'Author 1', 120)\n",
    "book2 = Book('Book 2', 18, 'Author 2', 220)\n",
    "\n",
    "print(book1)\n",
    "print(book2)\n",
    "\n",
    "# Changing the class attribute\n",
    "Book.category = \"Fiction\"\n",
    "\n",
    "print(book1)\n",
    "print(book2)\n"
   ]
  },
  {
   "cell_type": "markdown",
   "id": "44dd2528",
   "metadata": {},
   "source": [
    "**Instance Attributes belong to each instance separately. It defines a property which is individual to each object.**"
   ]
  },
  {
   "cell_type": "code",
   "execution_count": 5,
   "id": "a5fb9619",
   "metadata": {},
   "outputs": [
    {
     "name": "stdout",
     "output_type": "stream",
     "text": [
      "Book: Book 1, Quantity: 12, Author: Author 1, Price: 120, Category: Literature\n",
      "Book: Book 2, Quantity: 18, Author: Author 2, Price: 220, Category: Literature\n",
      "Book: Book 1, Quantity: 12, Author: Author 1, Price: 120, Category: Fiction\n",
      "Book: Book 2, Quantity: 18, Author: Author 2, Price: 220, Category: Fiction\n"
     ]
    }
   ],
   "source": [
    "class Book:\n",
    "    # Class attribute\n",
    "    category = \"Literature\"\n",
    "\n",
    "    def __init__(self, title, quantity, author, price):\n",
    "        self.title = title      # Instance attributes\n",
    "        self.quantity = quantity\n",
    "        self.author = author\n",
    "        self.price = price\n",
    "\n",
    "    def __repr__(self):\n",
    "        return f\"Book: {self.title}, Quantity: {self.quantity}, Author: {self.author}, Price: {self.price}, Category: {Book.category}\"\n",
    "\n",
    "# Objects\n",
    "book1 = Book('Book 1', 12, 'Author 1', 120)\n",
    "book2 = Book('Book 2', 18, 'Author 2', 220)\n",
    "\n",
    "print(book1)\n",
    "print(book2)\n",
    "\n",
    "# Changing the class attribute\n",
    "Book.category = \"Fiction\"\n",
    "\n",
    "print(book1)\n",
    "print(book2)\n"
   ]
  },
  {
   "cell_type": "markdown",
   "id": "a3cf072c",
   "metadata": {},
   "source": [
    "**Methods are functions defined within a class that can access and modify the object's attributes. There are three main types of methods in Python OOP:**\n",
    "- Instance methods\n",
    "- Class methods\n",
    "- Static methods"
   ]
  },
  {
   "cell_type": "markdown",
   "id": "a1151051",
   "metadata": {},
   "source": [
    "- **Instance methods operate on a specific instance of a class and have access to the instance's attributes through the `self` parameter, which refers to the instance itself.**\n",
    "\n",
    "- **Class methods are bound to the class and not the instance of the class. They receive the class itself as the first argument, conventionally named cls. Class methods are defined using the `@classmethod` decorator and are often used to create factory methods or modify class-level attributes.**\n",
    "\n",
    "- **Static methods are not bound to either the instance or the class. They are essentially regular functions that are placed within the class namespace. Static methods do not have access to the self or cls parameters and are defined using the `@staticmethod` decorator. They are used when a method does not need to access any class-specific or instance-specific data.**"
   ]
  },
  {
   "cell_type": "code",
   "execution_count": 6,
   "id": "8faa6e18",
   "metadata": {},
   "outputs": [],
   "source": [
    "class Book:\n",
    "    # Class attribute\n",
    "    category = \"Literature\"\n",
    "\n",
    "    def __init__(self, title, quantity, author, price):\n",
    "        self.title = title\n",
    "        self.quantity = quantity\n",
    "        self.author = author\n",
    "        self.price = price\n",
    "\n",
    "    # Instance method\n",
    "    def apply_discount(self, percent):\n",
    "        self.price -= self.price * (percent / 100)\n",
    "\n",
    "    # Class method\n",
    "    @classmethod\n",
    "    def change_category(cls, new_category):\n",
    "        cls.category = new_category\n",
    "\n",
    "    # Static method\n",
    "    @staticmethod\n",
    "    def is_expensive(price):\n",
    "        return price > 300\n",
    "\n",
    "    def __repr__(self):\n",
    "        return f\"Book: {self.title}, Quantity: {self.quantity}, Author: {self.author}, Price: {self.price}, Category: {Book.category}\"\n"
   ]
  },
  {
   "cell_type": "code",
   "execution_count": 7,
   "id": "e32921fd",
   "metadata": {},
   "outputs": [
    {
     "name": "stdout",
     "output_type": "stream",
     "text": [
      "Book: Book 1, Quantity: 12, Author: Author 1, Price: 108.0, Category: Literature\n",
      "Book: Book 1, Quantity: 12, Author: Author 1, Price: 108.0, Category: Fiction\n",
      "Book: Book 2, Quantity: 18, Author: Author 2, Price: 350, Category: Fiction\n",
      "False\n",
      "True\n"
     ]
    }
   ],
   "source": [
    "book1 = Book('Book 1', 12, 'Author 1', 120)\n",
    "book2 = Book('Book 2', 18, 'Author 2', 350)\n",
    "\n",
    "# Instance method: apply discount\n",
    "book1.apply_discount(10)  # 10% discount\n",
    "print(book1)\n",
    "\n",
    "# Class method: change category for all books\n",
    "Book.change_category(\"Fiction\")\n",
    "print(book1)\n",
    "print(book2)\n",
    "\n",
    "# Static method: check if a book is expensive\n",
    "print(Book.is_expensive(book1.price))  # False\n",
    "print(Book.is_expensive(book2.price))  # True\n"
   ]
  },
  {
   "cell_type": "markdown",
   "id": "0ee0aafe",
   "metadata": {},
   "source": [
    "## AEIP (Abstraction, Encapsulation, Inheritance, Polymorphism)\n",
    "\n",
    "- **Abstraction is the process of hiding complex implementation details and exposing only the essential features of an object to the outside world.**\n",
    "\n",
    "- **Encapsulation is the process of bundling data (variables) and the methods that operate on that data within a class.**\n",
    "\n",
    "- **Polymorphism means \"many forms\" and refers to the ability of objects to behave differently based on their type or class.**\n",
    "\n",
    "- **Inheritance enables a class (the child or derived class) to inherit properties and methods from another class (the parent or base class).**"
   ]
  },
  {
   "cell_type": "code",
   "execution_count": null,
   "id": "ff668c34",
   "metadata": {},
   "outputs": [
    {
     "name": "stdout",
     "output_type": "stream",
     "text": [
      "'Sapiens' by Yuval Noah Harari\n",
      "Format: Printed Book\n",
      "Price: 400\n",
      "----------------------------------------\n",
      "'Deep Work' by Cal Newport\n",
      "Format: EBook (1.2MB)\n",
      "Price: 250\n",
      "----------------------------------------\n",
      "'Atomic Habits' by James Clear\n",
      "Format: AudioBook (6h 30m)\n",
      "Price: 300\n",
      "----------------------------------------\n",
      "Updating price using method overloading:\n",
      "Updated price: 350\n"
     ]
    }
   ],
   "source": [
    "from abc import ABC, abstractmethod\n",
    "\n",
    "# Abstraction (abstract base class)\n",
    "class AbstractBook(ABC):\n",
    "    @abstractmethod\n",
    "    def get_summary(self):\n",
    "        pass\n",
    "\n",
    "    @abstractmethod\n",
    "    def get_format(self):\n",
    "        pass\n",
    "\n",
    "# Parent Class\n",
    "class Book(AbstractBook):\n",
    "    category = \"Literature\"  # Class attribute (shared)\n",
    "\n",
    "    def __init__(self, title, author, price=0):\n",
    "        self.title = title\n",
    "        self.author = author\n",
    "        self.__price = price  # Encapsulation (private)\n",
    "\n",
    "    # Method Overloading (Python-style using default value)\n",
    "    def set_price(self, price=None):\n",
    "        if price is not None and price > 0:\n",
    "            self.__price = price\n",
    "\n",
    "    def get_price(self):\n",
    "        return self.__price\n",
    "\n",
    "    # Abstract method implemented (Abstraction)\n",
    "    def get_summary(self):\n",
    "        return f\"'{self.title}' by {self.author}\"\n",
    "\n",
    "    # Method that can be overridden (Polymorphism)\n",
    "    def get_format(self):\n",
    "        return \"Printed Book\"\n",
    "\n",
    "# Subclass demonstrating Inheritance, Overriding, Polymorphism\n",
    "class EBook(Book):\n",
    "    def __init__(self, title, author, price, filesize):\n",
    "        super().__init__(title, author, price)\n",
    "        self.filesize = filesize\n",
    "\n",
    "    # Method Overriding\n",
    "    def get_format(self):\n",
    "        return f\"EBook ({self.filesize}MB)\"\n",
    "\n",
    "# Another subclass\n",
    "class AudioBook(Book):\n",
    "    def __init__(self, title, author, price, duration):\n",
    "        super().__init__(title, author, price)\n",
    "        self.duration = duration\n",
    "\n",
    "    # Method Overriding\n",
    "    def get_format(self):\n",
    "        return f\"AudioBook ({self.duration})\"\n",
    "\n",
    "# Usage\n",
    "books = [\n",
    "    Book(\"Sapiens\", \"Yuval Noah Harari\", 400),\n",
    "    EBook(\"Deep Work\", \"Cal Newport\", 250, 1.2),\n",
    "    AudioBook(\"Atomic Habits\", \"James Clear\", 300, \"6h 30m\")\n",
    "]\n",
    "\n",
    "for book in books:\n",
    "    print(book.get_summary())\n",
    "    print(\"Format:\", book.get_format())\n",
    "    print(\"Price:\", book.get_price())\n",
    "    print(\"-\" * 40)\n",
    "\n",
    "# Encapsulation and Overloading test\n",
    "print(\"Updating price using method overloading:\")\n",
    "books[0].set_price(350)  # Overloaded method with one argument\n",
    "print(\"Updated price:\", books[0].get_price())\n",
    "\n"
   ]
  },
  {
   "cell_type": "markdown",
   "id": "5f1616a5",
   "metadata": {},
   "source": [
    "# Getter and Setter methods\n"
   ]
  },
  {
   "cell_type": "code",
   "execution_count": 9,
   "id": "aafede83",
   "metadata": {},
   "outputs": [],
   "source": [
    "class Book:\n",
    "    def __init__(self, title, author, price):\n",
    "        self.title = title\n",
    "        self.author = author\n",
    "        self.__price = price  # Private attribute\n",
    "\n",
    "    # Getter method\n",
    "    def get_price(self):\n",
    "        return self.__price\n",
    "\n",
    "    # Setter method\n",
    "    def set_price(self, new_price):\n",
    "        if new_price > 0:\n",
    "            self.__price = new_price\n",
    "        else:\n",
    "            print(\"Invalid price! Price must be positive.\")\n",
    "\n",
    "    def get_summary(self):\n",
    "        return f\"'{self.title}' by {self.author}, Price: {self.__price}\"\n"
   ]
  },
  {
   "cell_type": "code",
   "execution_count": 10,
   "id": "811af8e1",
   "metadata": {},
   "outputs": [
    {
     "name": "stdout",
     "output_type": "stream",
     "text": [
      "Initial Price: 300\n",
      "Updated Price: 350\n",
      "Invalid price! Price must be positive.\n",
      "'The Alchemist' by Paulo Coelho, Price: 350\n"
     ]
    }
   ],
   "source": [
    "book = Book(\"The Alchemist\", \"Paulo Coelho\", 300)\n",
    "\n",
    "# Access price using getter\n",
    "print(\"Initial Price:\", book.get_price())\n",
    "\n",
    "# Update price using setter\n",
    "book.set_price(350)\n",
    "print(\"Updated Price:\", book.get_price())\n",
    "\n",
    "# Try setting invalid price\n",
    "book.set_price(-100)  # Won’t change price\n",
    "\n",
    "# Print full summary\n",
    "print(book.get_summary())\n"
   ]
  },
  {
   "cell_type": "markdown",
   "id": "eab38203",
   "metadata": {},
   "source": [
    "# Using `@property`"
   ]
  },
  {
   "cell_type": "code",
   "execution_count": 11,
   "id": "ad8d39ce",
   "metadata": {},
   "outputs": [],
   "source": [
    "class Book:\n",
    "    def __init__(self, title, author, price):\n",
    "        self.title = title\n",
    "        self.author = author\n",
    "        self.__price = price\n",
    "\n",
    "    # Getter\n",
    "    @property\n",
    "    def price(self):\n",
    "        return self.__price\n",
    "\n",
    "    # Setter\n",
    "    @price.setter\n",
    "    def price(self, value):\n",
    "        if value > 0:\n",
    "            self.__price = value\n",
    "        else:\n",
    "            print(\"Invalid price.\")\n",
    "\n",
    "    def get_summary(self):\n",
    "        return f\"{self.title} by {self.author}, Price: {self.__price}\"\n"
   ]
  },
  {
   "cell_type": "code",
   "execution_count": 12,
   "id": "bd0decab",
   "metadata": {},
   "outputs": [
    {
     "name": "stdout",
     "output_type": "stream",
     "text": [
      "400\n",
      "450\n",
      "Invalid price.\n"
     ]
    }
   ],
   "source": [
    "book = Book(\"Rich Dad Poor Dad\", \"Robert Kiyosaki\", 400)\n",
    "print(book.price)  # calls getter\n",
    "book.price = 450   # calls setter\n",
    "print(book.price)\n",
    "book.price = -100  # prints warning\n"
   ]
  }
 ],
 "metadata": {
  "kernelspec": {
   "display_name": "Python 3",
   "language": "python",
   "name": "python3"
  },
  "language_info": {
   "codemirror_mode": {
    "name": "ipython",
    "version": 3
   },
   "file_extension": ".py",
   "mimetype": "text/x-python",
   "name": "python",
   "nbconvert_exporter": "python",
   "pygments_lexer": "ipython3",
   "version": "3.13.3"
  }
 },
 "nbformat": 4,
 "nbformat_minor": 5
}
